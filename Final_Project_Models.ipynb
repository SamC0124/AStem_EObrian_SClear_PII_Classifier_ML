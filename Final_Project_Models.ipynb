{
  "cells": [
    {
      "cell_type": "markdown",
      "metadata": {
        "id": "vk3WyrUMkJee"
      },
      "source": [
        "# Imports"
      ]
    },
    {
      "cell_type": "code",
      "execution_count": 1,
      "metadata": {
        "id": "6arZkfNVj6Yc"
      },
      "outputs": [],
      "source": [
        "# General Imports\n",
        "import os\n",
        "import re\n",
        "import pandas as pd\n",
        "import numpy as np\n",
        "import json\n",
        "import matplotlib.pyplot as plt\n",
        "import seaborn as sns\n",
        "\n",
        "# ML-Specific Imports\n",
        "# Preprocessing Imports\n",
        "from gensim.models import Word2Vec\n",
        "\n",
        "# Analysis\n",
        "from sklearn.metrics import accuracy_score, classification_report, confusion_matrix, PrecisionRecallDisplay, precision_recall_curve\n",
        "from sklearn.model_selection import cross_val_score, KFold, train_test_split\n",
        "\n",
        "# Tensor Flow & Keras\n",
        "import tensorflow as tf\n",
        "from tensorflow import keras\n",
        "from tensorflow.keras.models import Sequential\n",
        "from tensorflow.keras.layers import Dense, Flatten, LSTM, LeakyReLU, Dropout\n",
        "from tensorflow.keras import optimizers\n",
        "from keras.models import Sequential\n",
        "from keras.layers import Dense\n",
        "from keras.metrics import Precision, Recall\n",
        "from keras.callbacks import EarlyStopping\n",
        "from keras import backend as K\n",
        "from keras.callbacks import ModelCheckpoint\n",
        "from tensorflow.keras.models import load_model\n",
        "\n",
        "\n",
        "# Imports for Naive Bayes.\n",
        "from sklearn.naive_bayes import MultinomialNB\n",
        "from sklearn.feature_extraction.text import CountVectorizer"
      ]
    },
    {
      "cell_type": "markdown",
      "metadata": {
        "id": "GpqGXyu8kc4U"
      },
      "source": [
        "# Colab Setup & Google Drive Mounting"
      ]
    },
    {
      "cell_type": "code",
      "execution_count": 2,
      "metadata": {
        "colab": {
          "base_uri": "https://localhost:8080/"
        },
        "id": "h_W2sDXykfks",
        "outputId": "a421b2ce-fc63-49ba-d05a-73561ab33388"
      },
      "outputs": [
        {
          "output_type": "stream",
          "name": "stdout",
          "text": [
            "Drive already mounted at /content/drive/; to attempt to forcibly remount, call drive.mount(\"/content/drive/\", force_remount=True).\n"
          ]
        }
      ],
      "source": [
        "# Mount Google Drive\n",
        "from google.colab import drive\n",
        "drive.mount('/content/drive/')"
      ]
    },
    {
      "cell_type": "code",
      "execution_count": 3,
      "metadata": {
        "colab": {
          "base_uri": "https://localhost:8080/"
        },
        "id": "MSVPlzeakgJL",
        "outputId": "996ffad9-6902-4baa-9187-0ca6d13f5c7c"
      },
      "outputs": [
        {
          "output_type": "stream",
          "name": "stdout",
          "text": [
            "['Final_Project_Models.ipynb']\n"
          ]
        }
      ],
      "source": [
        "# Set up Google Drive.\n",
        "GOOGLE_DRIVE_PATH_AFTER_MYDRIVE = 'Machine Learning Project/work'\n",
        "GOOGLE_DRIVE_PATH = os.path.join('drive', 'MyDrive', GOOGLE_DRIVE_PATH_AFTER_MYDRIVE)\n",
        "print(os.listdir(GOOGLE_DRIVE_PATH))"
      ]
    },
    {
      "cell_type": "markdown",
      "metadata": {
        "id": "IJ-_OYHRkwoc"
      },
      "source": [
        "# Data Preprocessing & Setup"
      ]
    },
    {
      "cell_type": "markdown",
      "metadata": {
        "id": "gpJHOgiuloRF"
      },
      "source": [
        "## Load Data"
      ]
    },
    {
      "cell_type": "code",
      "execution_count": 4,
      "metadata": {
        "colab": {
          "base_uri": "https://localhost:8080/",
          "height": 221
        },
        "id": "_hrfWGeskyjU",
        "outputId": "a0bd2364-0a27-41c3-8630-205c443d7511"
      },
      "outputs": [
        {
          "output_type": "stream",
          "name": "stdout",
          "text": [
            "Columns: Index(['document', 'full_text', 'labels'], dtype='object')\n"
          ]
        },
        {
          "output_type": "execute_result",
          "data": {
            "text/plain": [
              "     document                                          full_text  \\\n",
              "0  hhirqdovnm  Myrtle Way; https://www.twitter.com/m_way; 773...   \n",
              "1       18404  Reflection – Storytelling\\n\\nChallenge\\n\\nOur ...   \n",
              "2       14895  Reflection of Storytelling\\n\\nCHALLENGE    Sto...   \n",
              "3       21468  Mind Mapping\\n\\nChallenge & Selection\\n\\nMy jo...   \n",
              "4       14416  Using visualization as an aid to presenting ke...   \n",
              "\n",
              "                                              labels  \n",
              "0  [B-NAME_STUDENT, I-NAME_STUDENT, O, B-URL_PERS...  \n",
              "1  [O, O, O, O, O, O, O, O, O, O, O, O, O, O, O, ...  \n",
              "2  [O, O, O, O, O, O, O, O, O, O, O, O, O, O, O, ...  \n",
              "3  [O, O, O, O, O, O, O, O, O, O, O, O, O, O, O, ...  \n",
              "4  [O, O, O, O, O, O, O, O, O, O, O, O, O, O, O, ...  "
            ],
            "text/html": [
              "\n",
              "  <div id=\"df-5627c5c4-de79-4392-82ee-ad5b2828b13d\" class=\"colab-df-container\">\n",
              "    <div>\n",
              "<style scoped>\n",
              "    .dataframe tbody tr th:only-of-type {\n",
              "        vertical-align: middle;\n",
              "    }\n",
              "\n",
              "    .dataframe tbody tr th {\n",
              "        vertical-align: top;\n",
              "    }\n",
              "\n",
              "    .dataframe thead th {\n",
              "        text-align: right;\n",
              "    }\n",
              "</style>\n",
              "<table border=\"1\" class=\"dataframe\">\n",
              "  <thead>\n",
              "    <tr style=\"text-align: right;\">\n",
              "      <th></th>\n",
              "      <th>document</th>\n",
              "      <th>full_text</th>\n",
              "      <th>labels</th>\n",
              "    </tr>\n",
              "  </thead>\n",
              "  <tbody>\n",
              "    <tr>\n",
              "      <th>0</th>\n",
              "      <td>hhirqdovnm</td>\n",
              "      <td>Myrtle Way; https://www.twitter.com/m_way; 773...</td>\n",
              "      <td>[B-NAME_STUDENT, I-NAME_STUDENT, O, B-URL_PERS...</td>\n",
              "    </tr>\n",
              "    <tr>\n",
              "      <th>1</th>\n",
              "      <td>18404</td>\n",
              "      <td>Reflection – Storytelling\\n\\nChallenge\\n\\nOur ...</td>\n",
              "      <td>[O, O, O, O, O, O, O, O, O, O, O, O, O, O, O, ...</td>\n",
              "    </tr>\n",
              "    <tr>\n",
              "      <th>2</th>\n",
              "      <td>14895</td>\n",
              "      <td>Reflection of Storytelling\\n\\nCHALLENGE    Sto...</td>\n",
              "      <td>[O, O, O, O, O, O, O, O, O, O, O, O, O, O, O, ...</td>\n",
              "    </tr>\n",
              "    <tr>\n",
              "      <th>3</th>\n",
              "      <td>21468</td>\n",
              "      <td>Mind Mapping\\n\\nChallenge &amp; Selection\\n\\nMy jo...</td>\n",
              "      <td>[O, O, O, O, O, O, O, O, O, O, O, O, O, O, O, ...</td>\n",
              "    </tr>\n",
              "    <tr>\n",
              "      <th>4</th>\n",
              "      <td>14416</td>\n",
              "      <td>Using visualization as an aid to presenting ke...</td>\n",
              "      <td>[O, O, O, O, O, O, O, O, O, O, O, O, O, O, O, ...</td>\n",
              "    </tr>\n",
              "  </tbody>\n",
              "</table>\n",
              "</div>\n",
              "    <div class=\"colab-df-buttons\">\n",
              "\n",
              "  <div class=\"colab-df-container\">\n",
              "    <button class=\"colab-df-convert\" onclick=\"convertToInteractive('df-5627c5c4-de79-4392-82ee-ad5b2828b13d')\"\n",
              "            title=\"Convert this dataframe to an interactive table.\"\n",
              "            style=\"display:none;\">\n",
              "\n",
              "  <svg xmlns=\"http://www.w3.org/2000/svg\" height=\"24px\" viewBox=\"0 -960 960 960\">\n",
              "    <path d=\"M120-120v-720h720v720H120Zm60-500h600v-160H180v160Zm220 220h160v-160H400v160Zm0 220h160v-160H400v160ZM180-400h160v-160H180v160Zm440 0h160v-160H620v160ZM180-180h160v-160H180v160Zm440 0h160v-160H620v160Z\"/>\n",
              "  </svg>\n",
              "    </button>\n",
              "\n",
              "  <style>\n",
              "    .colab-df-container {\n",
              "      display:flex;\n",
              "      gap: 12px;\n",
              "    }\n",
              "\n",
              "    .colab-df-convert {\n",
              "      background-color: #E8F0FE;\n",
              "      border: none;\n",
              "      border-radius: 50%;\n",
              "      cursor: pointer;\n",
              "      display: none;\n",
              "      fill: #1967D2;\n",
              "      height: 32px;\n",
              "      padding: 0 0 0 0;\n",
              "      width: 32px;\n",
              "    }\n",
              "\n",
              "    .colab-df-convert:hover {\n",
              "      background-color: #E2EBFA;\n",
              "      box-shadow: 0px 1px 2px rgba(60, 64, 67, 0.3), 0px 1px 3px 1px rgba(60, 64, 67, 0.15);\n",
              "      fill: #174EA6;\n",
              "    }\n",
              "\n",
              "    .colab-df-buttons div {\n",
              "      margin-bottom: 4px;\n",
              "    }\n",
              "\n",
              "    [theme=dark] .colab-df-convert {\n",
              "      background-color: #3B4455;\n",
              "      fill: #D2E3FC;\n",
              "    }\n",
              "\n",
              "    [theme=dark] .colab-df-convert:hover {\n",
              "      background-color: #434B5C;\n",
              "      box-shadow: 0px 1px 3px 1px rgba(0, 0, 0, 0.15);\n",
              "      filter: drop-shadow(0px 1px 2px rgba(0, 0, 0, 0.3));\n",
              "      fill: #FFFFFF;\n",
              "    }\n",
              "  </style>\n",
              "\n",
              "    <script>\n",
              "      const buttonEl =\n",
              "        document.querySelector('#df-5627c5c4-de79-4392-82ee-ad5b2828b13d button.colab-df-convert');\n",
              "      buttonEl.style.display =\n",
              "        google.colab.kernel.accessAllowed ? 'block' : 'none';\n",
              "\n",
              "      async function convertToInteractive(key) {\n",
              "        const element = document.querySelector('#df-5627c5c4-de79-4392-82ee-ad5b2828b13d');\n",
              "        const dataTable =\n",
              "          await google.colab.kernel.invokeFunction('convertToInteractive',\n",
              "                                                    [key], {});\n",
              "        if (!dataTable) return;\n",
              "\n",
              "        const docLinkHtml = 'Like what you see? Visit the ' +\n",
              "          '<a target=\"_blank\" href=https://colab.research.google.com/notebooks/data_table.ipynb>data table notebook</a>'\n",
              "          + ' to learn more about interactive tables.';\n",
              "        element.innerHTML = '';\n",
              "        dataTable['output_type'] = 'display_data';\n",
              "        await google.colab.output.renderOutput(dataTable, element);\n",
              "        const docLink = document.createElement('div');\n",
              "        docLink.innerHTML = docLinkHtml;\n",
              "        element.appendChild(docLink);\n",
              "      }\n",
              "    </script>\n",
              "  </div>\n",
              "\n",
              "\n",
              "<div id=\"df-0abb6a87-ba7d-46a1-bfa5-a1db50ea0c04\">\n",
              "  <button class=\"colab-df-quickchart\" onclick=\"quickchart('df-0abb6a87-ba7d-46a1-bfa5-a1db50ea0c04')\"\n",
              "            title=\"Suggest charts\"\n",
              "            style=\"display:none;\">\n",
              "\n",
              "<svg xmlns=\"http://www.w3.org/2000/svg\" height=\"24px\"viewBox=\"0 0 24 24\"\n",
              "     width=\"24px\">\n",
              "    <g>\n",
              "        <path d=\"M19 3H5c-1.1 0-2 .9-2 2v14c0 1.1.9 2 2 2h14c1.1 0 2-.9 2-2V5c0-1.1-.9-2-2-2zM9 17H7v-7h2v7zm4 0h-2V7h2v10zm4 0h-2v-4h2v4z\"/>\n",
              "    </g>\n",
              "</svg>\n",
              "  </button>\n",
              "\n",
              "<style>\n",
              "  .colab-df-quickchart {\n",
              "      --bg-color: #E8F0FE;\n",
              "      --fill-color: #1967D2;\n",
              "      --hover-bg-color: #E2EBFA;\n",
              "      --hover-fill-color: #174EA6;\n",
              "      --disabled-fill-color: #AAA;\n",
              "      --disabled-bg-color: #DDD;\n",
              "  }\n",
              "\n",
              "  [theme=dark] .colab-df-quickchart {\n",
              "      --bg-color: #3B4455;\n",
              "      --fill-color: #D2E3FC;\n",
              "      --hover-bg-color: #434B5C;\n",
              "      --hover-fill-color: #FFFFFF;\n",
              "      --disabled-bg-color: #3B4455;\n",
              "      --disabled-fill-color: #666;\n",
              "  }\n",
              "\n",
              "  .colab-df-quickchart {\n",
              "    background-color: var(--bg-color);\n",
              "    border: none;\n",
              "    border-radius: 50%;\n",
              "    cursor: pointer;\n",
              "    display: none;\n",
              "    fill: var(--fill-color);\n",
              "    height: 32px;\n",
              "    padding: 0;\n",
              "    width: 32px;\n",
              "  }\n",
              "\n",
              "  .colab-df-quickchart:hover {\n",
              "    background-color: var(--hover-bg-color);\n",
              "    box-shadow: 0 1px 2px rgba(60, 64, 67, 0.3), 0 1px 3px 1px rgba(60, 64, 67, 0.15);\n",
              "    fill: var(--button-hover-fill-color);\n",
              "  }\n",
              "\n",
              "  .colab-df-quickchart-complete:disabled,\n",
              "  .colab-df-quickchart-complete:disabled:hover {\n",
              "    background-color: var(--disabled-bg-color);\n",
              "    fill: var(--disabled-fill-color);\n",
              "    box-shadow: none;\n",
              "  }\n",
              "\n",
              "  .colab-df-spinner {\n",
              "    border: 2px solid var(--fill-color);\n",
              "    border-color: transparent;\n",
              "    border-bottom-color: var(--fill-color);\n",
              "    animation:\n",
              "      spin 1s steps(1) infinite;\n",
              "  }\n",
              "\n",
              "  @keyframes spin {\n",
              "    0% {\n",
              "      border-color: transparent;\n",
              "      border-bottom-color: var(--fill-color);\n",
              "      border-left-color: var(--fill-color);\n",
              "    }\n",
              "    20% {\n",
              "      border-color: transparent;\n",
              "      border-left-color: var(--fill-color);\n",
              "      border-top-color: var(--fill-color);\n",
              "    }\n",
              "    30% {\n",
              "      border-color: transparent;\n",
              "      border-left-color: var(--fill-color);\n",
              "      border-top-color: var(--fill-color);\n",
              "      border-right-color: var(--fill-color);\n",
              "    }\n",
              "    40% {\n",
              "      border-color: transparent;\n",
              "      border-right-color: var(--fill-color);\n",
              "      border-top-color: var(--fill-color);\n",
              "    }\n",
              "    60% {\n",
              "      border-color: transparent;\n",
              "      border-right-color: var(--fill-color);\n",
              "    }\n",
              "    80% {\n",
              "      border-color: transparent;\n",
              "      border-right-color: var(--fill-color);\n",
              "      border-bottom-color: var(--fill-color);\n",
              "    }\n",
              "    90% {\n",
              "      border-color: transparent;\n",
              "      border-bottom-color: var(--fill-color);\n",
              "    }\n",
              "  }\n",
              "</style>\n",
              "\n",
              "  <script>\n",
              "    async function quickchart(key) {\n",
              "      const quickchartButtonEl =\n",
              "        document.querySelector('#' + key + ' button');\n",
              "      quickchartButtonEl.disabled = true;  // To prevent multiple clicks.\n",
              "      quickchartButtonEl.classList.add('colab-df-spinner');\n",
              "      try {\n",
              "        const charts = await google.colab.kernel.invokeFunction(\n",
              "            'suggestCharts', [key], {});\n",
              "      } catch (error) {\n",
              "        console.error('Error during call to suggestCharts:', error);\n",
              "      }\n",
              "      quickchartButtonEl.classList.remove('colab-df-spinner');\n",
              "      quickchartButtonEl.classList.add('colab-df-quickchart-complete');\n",
              "    }\n",
              "    (() => {\n",
              "      let quickchartButtonEl =\n",
              "        document.querySelector('#df-0abb6a87-ba7d-46a1-bfa5-a1db50ea0c04 button');\n",
              "      quickchartButtonEl.style.display =\n",
              "        google.colab.kernel.accessAllowed ? 'block' : 'none';\n",
              "    })();\n",
              "  </script>\n",
              "</div>\n",
              "\n",
              "    </div>\n",
              "  </div>\n"
            ],
            "application/vnd.google.colaboratory.intrinsic+json": {
              "type": "dataframe",
              "variable_name": "raw_dataset",
              "summary": "{\n  \"name\": \"raw_dataset\",\n  \"rows\": 9162,\n  \"fields\": [\n    {\n      \"column\": \"document\",\n      \"properties\": {\n        \"dtype\": \"string\",\n        \"num_unique_values\": 9162,\n        \"samples\": [\n          \"zzfaipfdlr\",\n          11480,\n          \"wbaapgzrnx\"\n        ],\n        \"semantic_type\": \"\",\n        \"description\": \"\"\n      }\n    },\n    {\n      \"column\": \"full_text\",\n      \"properties\": {\n        \"dtype\": \"string\",\n        \"num_unique_values\": 9162,\n        \"samples\": [\n          \"Mozart Agee\\n1543 Gilbert Summit\\nNorth Pamelaberg, MN 62762; id NO 4405654\\nmozart_agee61@outlook.com; mozartagee, https://www.linkedin.com/mozart_agee34, +1-848-892-8515\\n\\nChallenge: The complex challenge I encountered was the transformation of a traditional, cramped home into an open-concept, eco-friendly living space. The clients were a young couple with growing children who desired a functional and sustainable home that aligned with their environmental values. \\n\\nSelecting the Approach: I chose to apply a holistic, sustainable design approach, combining permaculture principles with biophilic design elements. This method seamlessly blends interior design with the natural environment, allowing for the creation of a harmonious balance between aesthetics and sustainable living. I decided on this approach as it directly addressed the clients' needs and aligned with my increasing focus on eco-friendly solutions in design. While other approaches, such as minimalistic or ultra-modern design, may have provided functionality, they overlooked the clients' environmental concerns and thus were discarded.\\n\\nApplication of the Approach: I began by conducting a thorough assessment of the existing home, documenting its layout, structural features, and possible eco-friendly modifications. Collaborating with the clients, I integrated their desired functional spaces with the permaculture principles, designing an open-concept living area that encouraged air flow, natural light, and communal living. By using local, recycled, or sustainably sourced materials, such as reclaimed wood, natural fibers, and energy-efficient appliances, we achieved a harmonious balance between design and sustainability. Native plant species were used for interior landscaping, further connecting the clients with the outdoors.\\n\\nAnalysis and Insight: The holistic, sustainable design approach effectively transformed the traditional home into a functional, open-concept living space that aligned with the clients' eco-friendly values. The incorporation of permaculture principles and biophilic design enhanced both the aesthetics and sustainability of the home. However, this approach had its limitations. It required more time and resources than other methods due to the emphasis on sustainable and locally sourced materials, delaying project completion. Moreover, sourcing these materials sometimes proved challenging due to limited availability. Despite these limitations, the end result justified the additional time and effort.\\n\\nConclusion - Future Applications: This experience solidified my commitment to eco-friendly, sustainable design, providing valuable insights that I can apply to future projects. By accounting for resource availability and sourcing limitations in the planning phase, I can preempt material-related challenges. Furthermore, establishing relationships with local suppliers and recycling facilities will streamline the sourcing of sustainable materials. With this approach, I hope to contribute to a broader cultural shift emphasizing sustainable interior design, ultimately leaving a lasting positive impact on both the environment and the individuals occupying these spaces.\\n\\nWith each new challenge, I am eager to find innovative solutions through the combination of novel tools and approaches. I understand that not all challenges are solved in the same way, but that a blend of creativity, knowledge, and resilience can lead to an outcome that benefits both my clients and our world. As I continue to expand my skills, meet new professionals, and explore sustainable innovations, I am confident that my future endeavors in the design world will both enrich my knowledge and excite the industry.\\n\\nIn conclusion, Mozart Agee\",\n          \"CHANGE MANAGEMENT PROCESS TRACKING\\n\\nThere is a standard process for all changes to my organization\\u2019s IT infrastructure (ie: systems,  applications, network equipment, etc.). However, it has become a challenge to identify changes made to  verify that they pass the documented change management process, which ensures seamless system  change and incident management in the event of a disaster. This is because there is no change  management database, and IT staff or administrators do not plan and follow the change management  process most of the time. The reason may be workload, business urgency, and other unforeseen factors.\\n\\nSELECTION:\\n\\nI decided to get the system log/trace of changes applied to all IT structures. System tracking related to  system and executable file events. This is a good indicator that the system has changed. These  logs/traces were tested to ensure that this will succeed. I also made sure that I verified that all systems  have sufficient, reasonable and detailed system logs.\\n\\nAPPLICATION:\\n\\nI requested for systems logs/trails for a particular period, afterwhich they are grouped to ensure that  related systems having similar or related logs formats and placed on different sheets for ease of analysis  and to ensure I build a tool that will enable scalability. I run a formular that targets specific  keywords/pointers which brings out changes that have been applied to systems.\\n\\nINSIGHT:\\n\\nI was can able to effectively identify the changes applied to systems the system and verify that  they go pass through the change management process. Also In addition, I was able to save protect the  organization from system failures due caused to by changes, and emphasis emphasized to the IT  personnel importance of IT staff changes based on data the that collected has been gathered data. The  result of this approach method has helped me to clarify unravel my methodology, thinking, and  design towards of problem resolution -solving.\\n\\nAPPROACH:\\n\\nI'm already looking for automation of this method so that the service can extract these logs in a certain  format to a certain location, categorize them and run my commands or formulas to remind me of any  changes that have occurred. This is essential because of the large number of systems involved, the time  it takes to manually classify them and run changes to triggers/pointers\\n\\n\",\n          \"Amelia Jose, 0193 Crawford Groves Apt. 138\\nYangstad, MO 59148\\n(292)331-2539x94341\\nhttps://www.linkedin.com/amelia-jose\\n\\n**Challenge: Bridging the Gap Between Creativity and Client Expectations**\\n\\nAs a seasoned graphic designer, I have encountered numerous challenges in my career. However, one of the most complex and recurring ones has been bridging the gap between my creative vision and my clients' expectations. This challenge is significant because it directly impacts the success of a project, and ultimately, the satisfaction of my clients. The complexity arises from the subjective nature of design, the frequent discrepancies between client briefs and their actual needs, and the delicate balance between staying true to my artistic vision and meeting the clients' expectations.\\n\\n**Selection of the Tool: Design Thinking Approach**\\n\\nTo address this challenge, I chose to adopt the Design Thinking approach, a problem-solving methodology that emphasizes empathy, collaboration, and experimentation. I was drawn to Design Thinking because of its relevance to the challenge, its focus on user-centered design, and its iterative nature, which allows for continuous improvement and adaptation.\\n\\nAlternatives considered but discarded included traditional project management tools and methods, which tend to focus on schedules, budgets, and task lists, rather than on the creative process and user experience. While these tools can be useful for managing timelines and resources, they often overlook the emotional and subjective aspects of the design process, which are crucial for aligning creativity and client expectations.\\n\\n**Application of the Tool: Empathize, Define, Ideate, Prototype, and Test**\\n\\nI integrated the Design Thinking approach into my workflow by following its five-stage process: Empathize, Define, Ideate, Prototype, and Test.\\n\\nDuring the Empathize stage, I made a conscious effort to understand my clients' needs, motivations, and perspectives. I did this by asking open-ended questions, actively listening, and observing their behavior. This helped me establish a strong foundation of trust and empathy, which is essential for overcoming subjective differences and aligning creativity with client expectations.\\n\\nIn the Define stage, I rephrased the problem statement from the clients' perspective, focusing on their key pain points and desired outcomes. This allowed me to create a shared understanding of the problem and the objectives of the design project.\\n\\nDuring the Ideate stage, I genera\\n\\nAmelia Jose, 0193 Crawford Groves Apt. 138\\nYangstad, MO 59148\\n(292)331-2539x94341\\nhttps://www.linkedin.com/amelia-jose\\n\\nted multiple design concepts, leveraging both lateral thinking techniques and visual brainstorming tools. This process helped me broaden my creative horizons and explore alternative design solutions that addressed the clients' needs more effectively.\\n\\nDuring the Prototype stage, I transformed the most promising ideas into tangible representations, such as sketches, wireframes, or digital mockups. This helped me identify potential issues, constraints, and opportunities early in the design process, and allowed me to iterate and refine the concepts based on user feedback.\\n\\nLastly, during the Test stage, I evaluated the final design solution with the clients, collecting their feedback and refining the design accordingly. This iterative approach not only ensured a better alignment between my creativity and their expectations but also fostered a sense of ownership and collaboration with the clients, strengthening our relationship and their satisfaction with the end result.\\n\\n**Analysis and Insight: Successes and Limitations**\\n\\nApplying the Design Thinking approach helped me bridge the gap between creativity and client expectations in several ways. Firstly, the empathetic and user-centered focus of the methodology enabled me to understand my clients' needs and preferences more accurately, reducing misunderstandings and misinterpretations. Secondly, the iterative nature of the approach allowed me to refine the design solutions based on continuous feedback, ensuring a better fit with the clients' expectations. Finally, the collaborative spirit of Design Thinking fostered a sense of shared ownership and trust, enhancing the overall experience and outcome of the design process.\\n\\nHowever, the Design Thinking approach also has its limitations. For instance, it can be (https://www.tiktok.com/@jose19)  time-consuming and resource-intensive, requiring a significant investment in research, brainstorming, and prototyping. This might not be feasible for projects with tight deadlines or budget constraints. Additionally, the subjective and qualitative nature of Design Thinking can make it challenging to measure its impact and effectiveness, relying mostly on anecdotal evidence and self-reported data.\\n\\n**Conclusion: Future Applications and Improvements**\\n\\nIn conclusion, applying the Design Thinking approach to bridge the gap between creativity and client expectations has been a valuable learning experience for me. The key insights gained include the importance of empathy, collaboration, and iteration in the design process, as well as the need to balance creativity with user needs and preferences.\\n\\nMoving forward, I plan to apply these insights to future projects by incorporating Design Thinking at various stages of the design process, but also by combining it with more structured project management tools and methods to ensure a more efficient and measured approach. Additionally, I aim to continue learning and improving my Design Thinking skills, attending workshops, and engaging in design communities to stay up-to-date with the latest methodologies, trends, and best practices in the field.\\n\\nWith best wishes, Amelia Jose\"\n        ],\n        \"semantic_type\": \"\",\n        \"description\": \"\"\n      }\n    },\n    {\n      \"column\": \"labels\",\n      \"properties\": {\n        \"dtype\": \"object\",\n        \"semantic_type\": \"\",\n        \"description\": \"\"\n      }\n    }\n  ]\n}"
            }
          },
          "metadata": {},
          "execution_count": 4
        }
      ],
      "source": [
        "raw_data_1 = pd.read_json(f\"{GOOGLE_DRIVE_PATH}/../data/original_pii_dataset.json\")\n",
        "raw_data_2 = pd.read_json(f\"{GOOGLE_DRIVE_PATH}/../data/mixtral-8x7b-v1.json\")\n",
        "raw_dataset = pd.concat([raw_data_1, raw_data_2], ignore_index=True)\n",
        "raw_dataset = raw_dataset.sample(frac=1, random_state=0).reset_index(drop=True) # Shuffle.\n",
        "raw_dataset.drop(columns=['tokens', 'trailing_whitespace'], inplace=True) # Drop 'tokens' and 'trailing_whitespace' column since they are unused.\n",
        "\n",
        "print(f\"Columns: {raw_dataset.keys()}\")\n",
        "raw_dataset.head()"
      ]
    },
    {
      "cell_type": "markdown",
      "metadata": {
        "id": "GYrWEqLpls2C"
      },
      "source": [
        "## Preprocessing Functions"
      ]
    },
    {
      "cell_type": "code",
      "execution_count": 5,
      "metadata": {
        "id": "KB7QllWXlxR2"
      },
      "outputs": [],
      "source": [
        "def binarize_data(data):\n",
        "    \"\"\"\n",
        "    Updates dataframe such that labels are only 0 or 1.\n",
        "    \"\"\"\n",
        "    for index, row in data.iterrows():\n",
        "        if any(label != 'O' for label in row['labels']):\n",
        "            data.loc[index, 'labels'] = 1  # Set label to 1 if 'O' is not the only element in the labels array\n",
        "        else:\n",
        "            data.loc[index, 'labels'] = 0  # Set label to 0 if 'O' is the only element in the labels array\n",
        "\n",
        "    data['labels'] = data['labels'].astype(int)\n",
        "\n",
        "    return data"
      ]
    },
    {
      "cell_type": "code",
      "execution_count": 6,
      "metadata": {
        "colab": {
          "base_uri": "https://localhost:8080/"
        },
        "id": "isN91_7BpSre",
        "outputId": "5799a800-711a-4305-d194-a701484c735b"
      },
      "outputs": [
        {
          "output_type": "stream",
          "name": "stdout",
          "text": [
            "['email', ':', 'john', '.', 'doe', '@', 'example', '.', 'com', ',', 'phone', ':', '+', '<NUM>', '-', '<NUM>', '-', '<NUM>', '.', 'url', ':', 'http', '://', 'example', '.', 'com', '/', 'path', '?', 'arg', '=', 'value', ';', 'another', 'email', ':', 'jane_doe', '@', 'sample', '.', 'org']\n"
          ]
        }
      ],
      "source": [
        "def custom_tokenizer(text):\n",
        "    \"\"\"\n",
        "    Tokenizes the text, treating words, '://', and other punctuation as separate tokens.\n",
        "    The pattern \\w+ captures word characters, [^\\w\\s] captures individual punctuation, and :\\/\\/ captures '://' for URLs.\n",
        "    We are ignoring spaces, newline characters, etc.\n",
        "    Then replaces all tokens that are purely numeric with '<NUM>'.\n",
        "    All tokens are put in lowercase.\n",
        "    \"\"\"\n",
        "    text = text.lower()\n",
        "    tokens = re.findall(r'\\w+|:\\/\\/|[^\\w\\s]', text)\n",
        "    tokens = [token if not token.isdigit() else '<NUM>' for token in tokens]\n",
        "    return tokens\n",
        "\n",
        "\n",
        "# Example Tokenization Usage.\n",
        "example_token_text = \"Email:\\n\\njohn.doe@example.com, Phone: +123-456-7890. URL: http://example.com/path?arg=value; Another Email: jane_doe@sample.org\"\n",
        "example_tokens = custom_tokenizer(example_token_text)\n",
        "print(example_tokens)"
      ]
    },
    {
      "cell_type": "code",
      "execution_count": 7,
      "metadata": {
        "colab": {
          "base_uri": "https://localhost:8080/"
        },
        "id": "fJElgyHwy_ap",
        "outputId": "e9a0e378-7b8e-4337-d6fd-c272d343770f"
      },
      "outputs": [
        {
          "output_type": "stream",
          "name": "stdout",
          "text": [
            "Vocabulary built with 7 unique tokens.\n",
            "Document vectors:\n",
            " [[-1.9313125e-03  9.3046325e-04  3.0773730e-04  1.0126045e-03\n",
            "  -7.5734145e-04 -1.2401232e-03  2.8874918e-03  4.2693550e-03\n",
            "  -5.1834532e-03 -2.4230410e-03  6.4616918e-04 -2.7678537e-03\n",
            "  -1.7599638e-03  2.8523810e-03 -3.3636615e-04 -1.9731321e-03\n",
            "   3.5947736e-03  3.9047871e-03 -4.2746086e-03 -5.1471749e-03\n",
            "  -1.0425893e-03 -1.4669753e-03  5.7777208e-03 -1.7462277e-03\n",
            "   3.0710169e-03 -1.3190617e-03  7.6538516e-04  1.7179502e-04\n",
            "  -2.8204739e-03  2.2486874e-03  4.0541538e-03 -2.5083921e-03\n",
            "  -7.3176750e-04 -4.1306363e-03 -2.6340741e-03  2.0460542e-03\n",
            "   2.7224307e-03 -3.1366850e-05  2.0372798e-03 -1.7122261e-03\n",
            "   1.9060473e-03 -2.6760600e-03 -3.5613715e-03 -1.4925643e-03\n",
            "   6.9635280e-04  3.7173007e-03 -1.7332786e-03  5.8259827e-04\n",
            "  -5.8009120e-04  1.1366076e-03  7.1395823e-04 -4.9702097e-03\n",
            "  -2.4356288e-03  1.5649481e-03 -3.8705268e-03 -1.7277289e-03\n",
            "   3.8490728e-03 -4.1743875e-03 -4.9488693e-03 -5.4921565e-04\n",
            "   4.5435317e-04 -1.0912400e-03  3.0742262e-03 -3.5737422e-03\n",
            "  -9.5182017e-04  5.2035893e-03  1.8484254e-03  5.8638875e-04\n",
            "  -3.3670131e-03  2.0265719e-04  1.2600668e-03  3.4847558e-03\n",
            "   2.6909849e-03  1.9792460e-03  1.3079892e-03  6.1164657e-04\n",
            "   1.0393398e-03  2.0030742e-03 -6.0397532e-04 -3.8577057e-04\n",
            "   9.0077287e-04 -2.9947350e-03  1.7637844e-04 -1.3180377e-03\n",
            "  -1.1371106e-03 -4.1426606e-03  1.1577059e-03 -3.5737106e-03\n",
            "  -9.9799785e-05  9.9267229e-04  9.1591489e-04  2.7395862e-03\n",
            "   6.2088639e-04 -3.0390630e-03  4.8088627e-03  3.8052977e-03\n",
            "   1.7830288e-03 -4.6698423e-03  1.8128686e-04  5.5501639e-04]\n",
            " [-4.8886086e-03  3.5039750e-03 -7.7875797e-04  1.8327704e-03\n",
            "   2.8310965e-03 -8.4005343e-04  1.5664973e-03  5.3411340e-03\n",
            "  -2.8435146e-03 -8.0337387e-04  1.0816536e-03 -7.4950058e-04\n",
            "  -1.0158244e-03  2.0649876e-03  1.8932018e-03 -1.4124528e-03\n",
            "   4.1107074e-03  3.7477289e-03 -4.5725559e-03 -2.6592810e-03\n",
            "   1.0079659e-03 -3.0011416e-03  5.7382537e-03  2.2392992e-04\n",
            "   1.7109525e-03 -4.0588705e-04  1.8895449e-03  4.9559344e-03\n",
            "  -4.4789063e-03  1.5496220e-03  3.0932941e-03 -2.8616127e-03\n",
            "  -8.9650246e-04 -5.3802128e-03  1.0595185e-03  3.6437387e-04\n",
            "   4.1663712e-03  1.9754693e-04  1.7004811e-04  2.9627862e-03\n",
            "  -4.1755289e-04 -3.8292556e-04 -4.4510579e-03  1.6564872e-03\n",
            "   2.8718817e-03  1.6089901e-03  1.1972256e-03  6.3898379e-04\n",
            "   7.5034087e-04  1.0020491e-04  1.8800145e-03 -6.4738095e-04\n",
            "  -2.2086599e-03 -3.5301719e-03 -1.8199194e-03 -1.8922929e-03\n",
            "   7.9608912e-04 -8.4452296e-04 -1.2318369e-03  5.1952072e-04\n",
            "  -1.3895673e-04 -2.8204665e-04  1.9634087e-03 -2.3284864e-03\n",
            "  -8.4588863e-04  2.0960658e-03  4.7375266e-03  4.5012748e-03\n",
            "  -1.7960712e-03  2.8255624e-03  1.1785168e-03  1.3573562e-03\n",
            "   7.8390754e-04  2.5307271e-03  2.3474316e-04  8.7183423e-04\n",
            "   4.5297836e-04  3.2476373e-03  3.0968027e-04 -3.9690202e-03\n",
            "  -4.4543333e-03 -6.6444103e-04  1.8685054e-03  4.0941872e-05\n",
            "  -2.3355759e-03 -3.3667535e-03  3.7380219e-03 -2.9642743e-03\n",
            "  -7.1543537e-04 -2.4188412e-03 -1.2159181e-03 -2.9230997e-04\n",
            "   3.8672443e-03 -3.7120041e-03  5.4381685e-03  9.1900566e-04\n",
            "   2.8784121e-03 -2.3098367e-03 -4.2288704e-04  2.6859119e-04]]\n"
          ]
        }
      ],
      "source": [
        "def use_word2vec(data):\n",
        "    # Collect the tokenized text documents.\n",
        "    doc_texts = data['tokens'].tolist()\n",
        "\n",
        "    # Initialize the word2vec model.\n",
        "    model = Word2Vec(vector_size=100, window=5, min_count=1, workers=4)\n",
        "\n",
        "    # Build the vocabulary from the tokenized documents\n",
        "    model.build_vocab(doc_texts)\n",
        "    print(f\"Vocabulary built with {len(model.wv.index_to_key)} unique tokens.\")\n",
        "\n",
        "    # Ensure vocabulary is not empty.\n",
        "    if len(model.wv.index_to_key) == 0:\n",
        "        raise ValueError(\"Vocabulary is empty. Check tokenization and min_count parameters.\")\n",
        "\n",
        "    # Train the word2vec model.\n",
        "    model.train(doc_texts, total_examples=model.corpus_count, epochs=model.epochs)\n",
        "\n",
        "    # Calculate document mean vectors and store them in a list\n",
        "    document_mean_vectors = []\n",
        "    for doc in doc_texts:\n",
        "        # Filter words to those present in the model's vocabulary.\n",
        "        valid_words = [word for word in doc if word in model.wv]\n",
        "\n",
        "        # Calculate mean vector for the document, handle empty documents.\n",
        "        if valid_words:\n",
        "            word_vectors = [model.wv[word] for word in valid_words]\n",
        "            document_mean_vectors.append(np.mean(word_vectors, axis=0))\n",
        "        else:\n",
        "            document_mean_vectors.append(np.zeros(model.vector_size))\n",
        "\n",
        "    # Convert list of vectors to a numpy array\n",
        "    return np.array(document_mean_vectors)\n",
        "\n",
        "\n",
        "# Example word2vec Usage.\n",
        "example_word2vec_data = {\n",
        "    'tokens': [['this', 'is', 'a', 'sample', 'sentence'], ['this', 'is', 'another', 'example', 'sentence']]\n",
        "}\n",
        "\n",
        "example_word2vec_data = pd.DataFrame(example_word2vec_data)\n",
        "\n",
        "document_vectors = use_word2vec(example_word2vec_data)\n",
        "print(\"Document vectors:\\n\", document_vectors)"
      ]
    },
    {
      "cell_type": "markdown",
      "metadata": {
        "id": "R4Kq0P2Fr9zX"
      },
      "source": [
        "## Preprocessing"
      ]
    },
    {
      "cell_type": "code",
      "execution_count": 8,
      "metadata": {
        "id": "K_g1P0xRr-mQ"
      },
      "outputs": [],
      "source": [
        "# Binarize the dataset.\n",
        "bin_clf_data = binarize_data(raw_dataset)"
      ]
    },
    {
      "cell_type": "code",
      "execution_count": 9,
      "metadata": {
        "id": "hTzmlHCtteM6"
      },
      "outputs": [],
      "source": [
        "# Tokenize the dataset.\n",
        "bin_clf_data['tokens'] = bin_clf_data['full_text'].apply(custom_tokenizer)"
      ]
    },
    {
      "cell_type": "code",
      "execution_count": 10,
      "metadata": {
        "colab": {
          "base_uri": "https://localhost:8080/",
          "height": 359
        },
        "id": "G9nREO6StoyL",
        "outputId": "c395b94c-2638-44c9-cb82-4f7af6e08cd0"
      },
      "outputs": [
        {
          "output_type": "execute_result",
          "data": {
            "text/plain": [
              "     document                                          full_text  labels  \\\n",
              "0  hhirqdovnm  Myrtle Way; https://www.twitter.com/m_way; 773...       1   \n",
              "1       18404  Reflection – Storytelling\\n\\nChallenge\\n\\nOur ...       0   \n",
              "2       14895  Reflection of Storytelling\\n\\nCHALLENGE    Sto...       0   \n",
              "3       21468  Mind Mapping\\n\\nChallenge & Selection\\n\\nMy jo...       0   \n",
              "4       14416  Using visualization as an aid to presenting ke...       0   \n",
              "5       15226  08 December 2016 – pvc\\n\\nDesign Thinking - As...       0   \n",
              "6       22376  Learning Launch\\n\\nChallenge\\n\\nI wanted to so...       0   \n",
              "7  bfjdhkjqlw  Lounis Proffitt - proffitt47\\nproffitt55@iclou...       1   \n",
              "8  sgvqavmupw  Baya Miguel, 001-339-998-6153\\nmiguel@outlook....       1   \n",
              "9       13504  DESIGN THINKING FOR INNOVATION\\n\\nFINAL ASSIGN...       0   \n",
              "\n",
              "                                              tokens  \n",
              "0  [myrtle, way, ;, https, ://, www, ., twitter, ...  \n",
              "1  [reflection, –, storytelling, challenge, our, ...  \n",
              "2  [reflection, of, storytelling, challenge, stor...  \n",
              "3  [mind, mapping, challenge, &, selection, my, j...  \n",
              "4  [using, visualization, as, an, aid, to, presen...  \n",
              "5  [<NUM>, december, <NUM>, –, pvc, design, think...  \n",
              "6  [learning, launch, challenge, i, wanted, to, s...  \n",
              "7  [lounis, proffitt, -, proffitt47, proffitt55, ...  \n",
              "8  [baya, miguel, ,, <NUM>, -, <NUM>, -, <NUM>, -...  \n",
              "9  [design, thinking, for, innovation, final, ass...  "
            ],
            "text/html": [
              "\n",
              "  <div id=\"df-352ca327-39da-4506-a2e4-96a61b581e74\" class=\"colab-df-container\">\n",
              "    <div>\n",
              "<style scoped>\n",
              "    .dataframe tbody tr th:only-of-type {\n",
              "        vertical-align: middle;\n",
              "    }\n",
              "\n",
              "    .dataframe tbody tr th {\n",
              "        vertical-align: top;\n",
              "    }\n",
              "\n",
              "    .dataframe thead th {\n",
              "        text-align: right;\n",
              "    }\n",
              "</style>\n",
              "<table border=\"1\" class=\"dataframe\">\n",
              "  <thead>\n",
              "    <tr style=\"text-align: right;\">\n",
              "      <th></th>\n",
              "      <th>document</th>\n",
              "      <th>full_text</th>\n",
              "      <th>labels</th>\n",
              "      <th>tokens</th>\n",
              "    </tr>\n",
              "  </thead>\n",
              "  <tbody>\n",
              "    <tr>\n",
              "      <th>0</th>\n",
              "      <td>hhirqdovnm</td>\n",
              "      <td>Myrtle Way; https://www.twitter.com/m_way; 773...</td>\n",
              "      <td>1</td>\n",
              "      <td>[myrtle, way, ;, https, ://, www, ., twitter, ...</td>\n",
              "    </tr>\n",
              "    <tr>\n",
              "      <th>1</th>\n",
              "      <td>18404</td>\n",
              "      <td>Reflection – Storytelling\\n\\nChallenge\\n\\nOur ...</td>\n",
              "      <td>0</td>\n",
              "      <td>[reflection, –, storytelling, challenge, our, ...</td>\n",
              "    </tr>\n",
              "    <tr>\n",
              "      <th>2</th>\n",
              "      <td>14895</td>\n",
              "      <td>Reflection of Storytelling\\n\\nCHALLENGE    Sto...</td>\n",
              "      <td>0</td>\n",
              "      <td>[reflection, of, storytelling, challenge, stor...</td>\n",
              "    </tr>\n",
              "    <tr>\n",
              "      <th>3</th>\n",
              "      <td>21468</td>\n",
              "      <td>Mind Mapping\\n\\nChallenge &amp; Selection\\n\\nMy jo...</td>\n",
              "      <td>0</td>\n",
              "      <td>[mind, mapping, challenge, &amp;, selection, my, j...</td>\n",
              "    </tr>\n",
              "    <tr>\n",
              "      <th>4</th>\n",
              "      <td>14416</td>\n",
              "      <td>Using visualization as an aid to presenting ke...</td>\n",
              "      <td>0</td>\n",
              "      <td>[using, visualization, as, an, aid, to, presen...</td>\n",
              "    </tr>\n",
              "    <tr>\n",
              "      <th>5</th>\n",
              "      <td>15226</td>\n",
              "      <td>08 December 2016 – pvc\\n\\nDesign Thinking - As...</td>\n",
              "      <td>0</td>\n",
              "      <td>[&lt;NUM&gt;, december, &lt;NUM&gt;, –, pvc, design, think...</td>\n",
              "    </tr>\n",
              "    <tr>\n",
              "      <th>6</th>\n",
              "      <td>22376</td>\n",
              "      <td>Learning Launch\\n\\nChallenge\\n\\nI wanted to so...</td>\n",
              "      <td>0</td>\n",
              "      <td>[learning, launch, challenge, i, wanted, to, s...</td>\n",
              "    </tr>\n",
              "    <tr>\n",
              "      <th>7</th>\n",
              "      <td>bfjdhkjqlw</td>\n",
              "      <td>Lounis Proffitt - proffitt47\\nproffitt55@iclou...</td>\n",
              "      <td>1</td>\n",
              "      <td>[lounis, proffitt, -, proffitt47, proffitt55, ...</td>\n",
              "    </tr>\n",
              "    <tr>\n",
              "      <th>8</th>\n",
              "      <td>sgvqavmupw</td>\n",
              "      <td>Baya Miguel, 001-339-998-6153\\nmiguel@outlook....</td>\n",
              "      <td>1</td>\n",
              "      <td>[baya, miguel, ,, &lt;NUM&gt;, -, &lt;NUM&gt;, -, &lt;NUM&gt;, -...</td>\n",
              "    </tr>\n",
              "    <tr>\n",
              "      <th>9</th>\n",
              "      <td>13504</td>\n",
              "      <td>DESIGN THINKING FOR INNOVATION\\n\\nFINAL ASSIGN...</td>\n",
              "      <td>0</td>\n",
              "      <td>[design, thinking, for, innovation, final, ass...</td>\n",
              "    </tr>\n",
              "  </tbody>\n",
              "</table>\n",
              "</div>\n",
              "    <div class=\"colab-df-buttons\">\n",
              "\n",
              "  <div class=\"colab-df-container\">\n",
              "    <button class=\"colab-df-convert\" onclick=\"convertToInteractive('df-352ca327-39da-4506-a2e4-96a61b581e74')\"\n",
              "            title=\"Convert this dataframe to an interactive table.\"\n",
              "            style=\"display:none;\">\n",
              "\n",
              "  <svg xmlns=\"http://www.w3.org/2000/svg\" height=\"24px\" viewBox=\"0 -960 960 960\">\n",
              "    <path d=\"M120-120v-720h720v720H120Zm60-500h600v-160H180v160Zm220 220h160v-160H400v160Zm0 220h160v-160H400v160ZM180-400h160v-160H180v160Zm440 0h160v-160H620v160ZM180-180h160v-160H180v160Zm440 0h160v-160H620v160Z\"/>\n",
              "  </svg>\n",
              "    </button>\n",
              "\n",
              "  <style>\n",
              "    .colab-df-container {\n",
              "      display:flex;\n",
              "      gap: 12px;\n",
              "    }\n",
              "\n",
              "    .colab-df-convert {\n",
              "      background-color: #E8F0FE;\n",
              "      border: none;\n",
              "      border-radius: 50%;\n",
              "      cursor: pointer;\n",
              "      display: none;\n",
              "      fill: #1967D2;\n",
              "      height: 32px;\n",
              "      padding: 0 0 0 0;\n",
              "      width: 32px;\n",
              "    }\n",
              "\n",
              "    .colab-df-convert:hover {\n",
              "      background-color: #E2EBFA;\n",
              "      box-shadow: 0px 1px 2px rgba(60, 64, 67, 0.3), 0px 1px 3px 1px rgba(60, 64, 67, 0.15);\n",
              "      fill: #174EA6;\n",
              "    }\n",
              "\n",
              "    .colab-df-buttons div {\n",
              "      margin-bottom: 4px;\n",
              "    }\n",
              "\n",
              "    [theme=dark] .colab-df-convert {\n",
              "      background-color: #3B4455;\n",
              "      fill: #D2E3FC;\n",
              "    }\n",
              "\n",
              "    [theme=dark] .colab-df-convert:hover {\n",
              "      background-color: #434B5C;\n",
              "      box-shadow: 0px 1px 3px 1px rgba(0, 0, 0, 0.15);\n",
              "      filter: drop-shadow(0px 1px 2px rgba(0, 0, 0, 0.3));\n",
              "      fill: #FFFFFF;\n",
              "    }\n",
              "  </style>\n",
              "\n",
              "    <script>\n",
              "      const buttonEl =\n",
              "        document.querySelector('#df-352ca327-39da-4506-a2e4-96a61b581e74 button.colab-df-convert');\n",
              "      buttonEl.style.display =\n",
              "        google.colab.kernel.accessAllowed ? 'block' : 'none';\n",
              "\n",
              "      async function convertToInteractive(key) {\n",
              "        const element = document.querySelector('#df-352ca327-39da-4506-a2e4-96a61b581e74');\n",
              "        const dataTable =\n",
              "          await google.colab.kernel.invokeFunction('convertToInteractive',\n",
              "                                                    [key], {});\n",
              "        if (!dataTable) return;\n",
              "\n",
              "        const docLinkHtml = 'Like what you see? Visit the ' +\n",
              "          '<a target=\"_blank\" href=https://colab.research.google.com/notebooks/data_table.ipynb>data table notebook</a>'\n",
              "          + ' to learn more about interactive tables.';\n",
              "        element.innerHTML = '';\n",
              "        dataTable['output_type'] = 'display_data';\n",
              "        await google.colab.output.renderOutput(dataTable, element);\n",
              "        const docLink = document.createElement('div');\n",
              "        docLink.innerHTML = docLinkHtml;\n",
              "        element.appendChild(docLink);\n",
              "      }\n",
              "    </script>\n",
              "  </div>\n",
              "\n",
              "\n",
              "<div id=\"df-6291a5b9-5218-4e31-b225-ed04211ce0cd\">\n",
              "  <button class=\"colab-df-quickchart\" onclick=\"quickchart('df-6291a5b9-5218-4e31-b225-ed04211ce0cd')\"\n",
              "            title=\"Suggest charts\"\n",
              "            style=\"display:none;\">\n",
              "\n",
              "<svg xmlns=\"http://www.w3.org/2000/svg\" height=\"24px\"viewBox=\"0 0 24 24\"\n",
              "     width=\"24px\">\n",
              "    <g>\n",
              "        <path d=\"M19 3H5c-1.1 0-2 .9-2 2v14c0 1.1.9 2 2 2h14c1.1 0 2-.9 2-2V5c0-1.1-.9-2-2-2zM9 17H7v-7h2v7zm4 0h-2V7h2v10zm4 0h-2v-4h2v4z\"/>\n",
              "    </g>\n",
              "</svg>\n",
              "  </button>\n",
              "\n",
              "<style>\n",
              "  .colab-df-quickchart {\n",
              "      --bg-color: #E8F0FE;\n",
              "      --fill-color: #1967D2;\n",
              "      --hover-bg-color: #E2EBFA;\n",
              "      --hover-fill-color: #174EA6;\n",
              "      --disabled-fill-color: #AAA;\n",
              "      --disabled-bg-color: #DDD;\n",
              "  }\n",
              "\n",
              "  [theme=dark] .colab-df-quickchart {\n",
              "      --bg-color: #3B4455;\n",
              "      --fill-color: #D2E3FC;\n",
              "      --hover-bg-color: #434B5C;\n",
              "      --hover-fill-color: #FFFFFF;\n",
              "      --disabled-bg-color: #3B4455;\n",
              "      --disabled-fill-color: #666;\n",
              "  }\n",
              "\n",
              "  .colab-df-quickchart {\n",
              "    background-color: var(--bg-color);\n",
              "    border: none;\n",
              "    border-radius: 50%;\n",
              "    cursor: pointer;\n",
              "    display: none;\n",
              "    fill: var(--fill-color);\n",
              "    height: 32px;\n",
              "    padding: 0;\n",
              "    width: 32px;\n",
              "  }\n",
              "\n",
              "  .colab-df-quickchart:hover {\n",
              "    background-color: var(--hover-bg-color);\n",
              "    box-shadow: 0 1px 2px rgba(60, 64, 67, 0.3), 0 1px 3px 1px rgba(60, 64, 67, 0.15);\n",
              "    fill: var(--button-hover-fill-color);\n",
              "  }\n",
              "\n",
              "  .colab-df-quickchart-complete:disabled,\n",
              "  .colab-df-quickchart-complete:disabled:hover {\n",
              "    background-color: var(--disabled-bg-color);\n",
              "    fill: var(--disabled-fill-color);\n",
              "    box-shadow: none;\n",
              "  }\n",
              "\n",
              "  .colab-df-spinner {\n",
              "    border: 2px solid var(--fill-color);\n",
              "    border-color: transparent;\n",
              "    border-bottom-color: var(--fill-color);\n",
              "    animation:\n",
              "      spin 1s steps(1) infinite;\n",
              "  }\n",
              "\n",
              "  @keyframes spin {\n",
              "    0% {\n",
              "      border-color: transparent;\n",
              "      border-bottom-color: var(--fill-color);\n",
              "      border-left-color: var(--fill-color);\n",
              "    }\n",
              "    20% {\n",
              "      border-color: transparent;\n",
              "      border-left-color: var(--fill-color);\n",
              "      border-top-color: var(--fill-color);\n",
              "    }\n",
              "    30% {\n",
              "      border-color: transparent;\n",
              "      border-left-color: var(--fill-color);\n",
              "      border-top-color: var(--fill-color);\n",
              "      border-right-color: var(--fill-color);\n",
              "    }\n",
              "    40% {\n",
              "      border-color: transparent;\n",
              "      border-right-color: var(--fill-color);\n",
              "      border-top-color: var(--fill-color);\n",
              "    }\n",
              "    60% {\n",
              "      border-color: transparent;\n",
              "      border-right-color: var(--fill-color);\n",
              "    }\n",
              "    80% {\n",
              "      border-color: transparent;\n",
              "      border-right-color: var(--fill-color);\n",
              "      border-bottom-color: var(--fill-color);\n",
              "    }\n",
              "    90% {\n",
              "      border-color: transparent;\n",
              "      border-bottom-color: var(--fill-color);\n",
              "    }\n",
              "  }\n",
              "</style>\n",
              "\n",
              "  <script>\n",
              "    async function quickchart(key) {\n",
              "      const quickchartButtonEl =\n",
              "        document.querySelector('#' + key + ' button');\n",
              "      quickchartButtonEl.disabled = true;  // To prevent multiple clicks.\n",
              "      quickchartButtonEl.classList.add('colab-df-spinner');\n",
              "      try {\n",
              "        const charts = await google.colab.kernel.invokeFunction(\n",
              "            'suggestCharts', [key], {});\n",
              "      } catch (error) {\n",
              "        console.error('Error during call to suggestCharts:', error);\n",
              "      }\n",
              "      quickchartButtonEl.classList.remove('colab-df-spinner');\n",
              "      quickchartButtonEl.classList.add('colab-df-quickchart-complete');\n",
              "    }\n",
              "    (() => {\n",
              "      let quickchartButtonEl =\n",
              "        document.querySelector('#df-6291a5b9-5218-4e31-b225-ed04211ce0cd button');\n",
              "      quickchartButtonEl.style.display =\n",
              "        google.colab.kernel.accessAllowed ? 'block' : 'none';\n",
              "    })();\n",
              "  </script>\n",
              "</div>\n",
              "\n",
              "    </div>\n",
              "  </div>\n"
            ],
            "application/vnd.google.colaboratory.intrinsic+json": {
              "type": "dataframe",
              "summary": "{\n  \"name\": \"bin_clf_data[0:10]\",\n  \"rows\": 10,\n  \"fields\": [\n    {\n      \"column\": \"document\",\n      \"properties\": {\n        \"dtype\": \"string\",\n        \"num_unique_values\": 10,\n        \"samples\": [\n          \"sgvqavmupw\",\n          18404,\n          15226\n        ],\n        \"semantic_type\": \"\",\n        \"description\": \"\"\n      }\n    },\n    {\n      \"column\": \"full_text\",\n      \"properties\": {\n        \"dtype\": \"string\",\n        \"num_unique_values\": 10,\n        \"samples\": [\n          \"Baya Miguel, 001-339-998-6153\\nmiguel@outlook.com\\n266 Knapp Ranch Suite 554\\nNorth Kevin, RI 19856\\n\\n**Identifying the Challenge: The Complexity of Catering to Diverse Dietary Preferences and Restrictions**\\n\\nIn my role as a Food Chemist-Event Planner, I regularly encounter complex challenges related to food and event management. However, one challenge that stands out is the need to cater to diverse dietary preferences and restrictions. This issue is particularly significant in today's culinary scene, where vegetarian, vegan, gluten-free, and allergen-free diets have become increasingly common. In events where large groups of people gather for meals, accommodating all these unique needs can be a daunting task.\\n\\nThe complexity arises from the fact that dietary preferences and restrictions often intersect in unexpected ways. For example, a vegetarian may also have a nut allergy, or someone following a gluten-free diet could also be vegan. Keeping track of these dietary profiles and ensuring that each attendee gets a satisfying and safe meal is a logistical puzzle that requires careful planning, precise execution, and ongoing evaluation.\\n\\n**Selection of the Tool or Approach: Customized Event Planning and Menu Design**\\n\\nTo address this challenge, I've chosen to employ customized event planning and menu design strategies. This approach allows me to consider individual dietary profiles when designing menus and organizing events. In contrast to using standardized menus and event layouts that lack the flexibility to accommodate diverse dietary needs, this strategy tailors each event to its attendees.\\n\\nOne could argue that developing bespoke menus and events for each gathering might not be scalable and could lead to operational inefficiencies. However, the potential to ensure every attendee's satisfaction, safety, and inclusion outweighs this challenge. Moreover, it enables me to create memorable culinary experiences that merge the realms of food, science, and celebration.\\n\\n**Application of the Tool or Approach: Analyzing Dietary Profiles and Crafting Personalized Menus**\\n\\nWhen working with clients, I first inquire about their dietary preferences and restrictions, often asking them to complete a form to provide detailed information. After analyzing the data, I categorize attendees based on shared requirements, such as all vegetarians, vegans, or attendees with nut allergies.\\n\\nNext, I design menus that accommodate each dietary group. When possible, I include dishes that feature shared ingredients among different dietary categories. For example, a quinoa salad made with roasted vegetables and a tangy vinaigrette could satisfy both vegetarians and gluten-free attendees. This strategy helps me streamline the preparation process and avoid unnecessary repetition in meal offerings.\\n\\nBeyond menu design, I also consider the overall flow and layout of events. For example, when serving buffet-style meals, I ensure that allergy-free or vegan stations are appropriately labeled and separated from other food options. Utilizing color-coded utensils and signage helps communicate the safety and compatibility of each dish to attendees.\\n\\n**Analysis and Insight: Strengths, Limitations, and Lessons Learned**\\n\\nThe customized menu and event planning strategy has proven effective in addressing the diverse dietary needs challenge. Feedback from attendees revealed that they appreciated the attention to detail and found the food options engaging and satisfying. Moreover, this approach encouraged dialogue among participants about various diets, further enhancing their appreciation of culinary diversity.\\n\\nDespite its successes, this strategy has limitations. It may require additional resources and planning time compared to generic menu options. Additionally, it can be challenging to predict every attendee's unique preference or restriction, necessitating open communication channels for last-minute adjustments.\\n\\nOne significant lesson learned is the value of engaging attendees in conversations about their dietary needs. By fostering transparency around these issues, I can adjust menus and event layouts on-the-fly, ensuring every attendee feels accommodated and satisfied.\\n\\n**Conclusion: Future Applications and Modifications**\\n\\nThe insights gained from employing customized event planning and menu design strategies have informed my approach to future challenges. I intend to continue refining this method, finding ways to streamline processes and build more efficiencies into the planning phase.\\n\\nAs I move forward, I will explore potential tools or techniques for proactively collecting and tracking attendees' dietary profiles. Incorporating digital platforms or apps could enable real-time updates and tracking, allowing for more agile menu and event design.\\n\\nIn conclusion, addressing complex challenges in unique professional roles requires innovative thinking and thoughtful application of tailored techniques. By continually evaluating the effectiveness of our chosen tools and adapt our strategies accordingly, we can create long-lasting solutions, enhance our professional skills and better serve our communities.\\n\\nWith a commitment to change,\\nBaya Miguel\",\n          \"Reflection \\u2013 Storytelling\\n\\nChallenge\\n\\nOur unit facilitates a quality review program where we schedule departments to report their updates to  company executives. A concerned unit can have this review either quarterly or semi-annually,  depending on how problematic their previous report was. The challenge is how to present problematic  updates in a sympathetic manner, especially for problems that occur due to issues out of the concerned  unit\\u2019s control. We also conduct customer satisfaction surveys internally, for example, one department  evaluates another department that provides a service to them. For these surveys however, our unit is  the one tasked to report to company executives. The challenge is how to convey problems experienced  by the customers doing the evaluation in a way that feels more personal and not just numerical. We also  provide process improvement training, part of which is a defense of the team\\u2019s project. The challenge is  how to hone the training participants\\u2019 presentation skills in preparation for their defense.\\n\\nSelection\\n\\nStorytelling is a tool that is used to connect an audience to ideas, information, or a brand. The  storytelling tool is used in many functions of our unit and is also used by many of the internal clients we  serve. Using the storytelling tool properly and teaching our internal customers to do the same should  help make presentations more engaging.\\n\\nApplication\\n\\nFor the quality review program, our unit aided the concerned departments by helping them use the  storytelling tool more effectively. Before, we only go over their powerpoint to check if information is  complete, now we also request that they practice their presentation with us so we can provide  constructive criticism before they report to the executives.\\n\\nFor the survey program, our unit used the storytelling tool more effectively by utilizing the comments  and complaints made in the survey instead of only focusing on numerical data.\\n\\nFor the training program, we teach the workshop participants on how to effectively use the storytelling  tool and help them develop their skill with this tool. Before, during the workshop, we have them present  their business case but for the final draft of the business case, we just review their papers, now we have  them practice their final presentation with us before they go on to defend their project.\\n\\nInsight & Approach\\n\\nOur unit has been making use of the storytelling tool, however what we need is to learn how to use it  effectively, teachings which can be found in this course. When we help our internal clients develop their  storytelling skills, we are also practicing and honing our own storytelling skills. When we next have a  new department due for a review or a new batch of training participants, we can practice these ideas  with them.\\n\\n\",\n          \"08 December 2016 \\u2013 pvc\\n\\nDesign Thinking - Assignment\\n\\nLearning Launch\\n\\n1. Challenge & selection\\n\\nBeginning of 2015, with some colleagues from various teams, we were considering to  participate to an internal innovation contest. We work in an asset management company,  who aims at helping clients to harness the power of investing to meet their financial goals.  We were under the impression that the company could do better at helping our clients to  understand financial markets, in order for them to take better decisions. Hence our idea of  building and launching a MOOC, like this one, on Asset Management. We were convinced of  the potential of such format to contribute to a better client education.\\n\\nA few of us had already followed such online courses with the impression that the format  was ideal for many reasons. Following additional meetings and discussions with employees  from 2 MOOC providers, one being Coursera, we decided to embark in the adventure,  persuaded that we knew enough to prepare a case. But we soon faced various issues,  realising that we had in fact not enough data and feedbacks to structure rationally this  project. Facing limited means and time, we had to find an efficient way to validate our  thoughts, both from a time and cost perspective.\\n\\nThe only free and quick solution we found was to check all our hypothesises through  structured meetings with small & diverse groups of people, from different horizons, both  internal and external. The target was to test our ideas in order to have them validated or  refined until we reach a good level of comfort and credibility, before submitting our project  to the internal contest. Without knowing it at this time, we had in fact decided to enter into  a learning launch process. I am glad to learn that what we were about to do was in fact a  proven valid tool.\\n\\n2. Application\\n\\nThe scope of our clients is really large, from big global companies or central banks to  individual clients served through intermediaries. As such, the level of sophistication and  knowledge of our counterparts could vary a lot. We had to find the right balanced to ensure  the content offered was both accessible but serious and technical, with the required level of  pedagogy. For that reasons, we decided to select a number of people from different  backgrounds, internal or external, and for internals, colleagues in contact through various  channels with different types of clients. We had also in mind that some of our colleagues are  also individual clients of our company.\\n\\nWith our small team, some only observing, we presented to each group our idea, the  hypothesis behind it, and some visualization (through power points slides) of what it could\\n\\n08 December 2016 \\u2013 pvc\\n\\nlook like, with the objective of getting their reaction and feedback on what was presented. It  took us a few weeks to go through the whole process, meeting more than once each group  in order to adjust and retest the idea until we get something robust, and far more  elaborated than our initial thoughts.\\n\\n3. Insight gained\\n\\nAs mentioned, we collected lots of insights, some confirming hypothesises, some other  leading us to rework the project, among which we can retained 3 absolutely crucial ones  which forced us to revise the entire offer. Firstly, as a corporate, there was a very high risk  that the content produced, though of quality, could be disqualified as pure marketing,  leading to destroy our credibility. This led us to consider a partnership with a top university  who would be fully in charge of the most academic content. Secondly, many people insisted  on the fact that for clients, pure theory and financial abstraction would be useless if not also  put into the context of what an asset manager does with it. The third one was about the  targeted audience. Initially, the project was about client education only. But throughout the  discussions, we realised that at least two other categories could be interested, colleagues  and potential future employees. Colleagues not directly working in the financial markets  expressed their own need to better understand the activity of an asset manager, from back- office or IT functions to sales people. And candidates or future employees could also benefit  greatly from understanding how we work, who we are and what we do. This had a large  influence on the educational content itself. This \\u201cLearning Launch\\u201d has had an additional  great interest. Some of the people interviewed spontaneously offered to contribute to  design the course and to participate to the video shooting, which led this project into a real  transversal project at the company level. All that contributed to an internal innovation  award, followed by a new course launched on COursera in partnership with HEC Paris called  Investment Management in an Evolving and Volatile World.\\n\\n4. Approach\\n\\nOne of the lessons gained is that the tools supporting the design thinking process are not  only great at the beginning of the process, but also throughout it, with caution though. And  this was a second lesson. We used the same learning launch process twice, the second time  to structure the course content itself. This second try was not a success, mostly because it  was not the right tool this time. We were literally flowed with suggestions and it took us  quite a lot of time to hierarchize the comments and to structure it into chapters. I now  understand why, having discovered the \\u201cmind mapping system\\u201d. We learnt it the hard way!\\n\\n\"\n        ],\n        \"semantic_type\": \"\",\n        \"description\": \"\"\n      }\n    },\n    {\n      \"column\": \"labels\",\n      \"properties\": {\n        \"dtype\": \"number\",\n        \"std\": 0,\n        \"min\": 0,\n        \"max\": 1,\n        \"num_unique_values\": 2,\n        \"samples\": [\n          0,\n          1\n        ],\n        \"semantic_type\": \"\",\n        \"description\": \"\"\n      }\n    },\n    {\n      \"column\": \"tokens\",\n      \"properties\": {\n        \"dtype\": \"object\",\n        \"semantic_type\": \"\",\n        \"description\": \"\"\n      }\n    }\n  ]\n}"
            }
          },
          "metadata": {},
          "execution_count": 10
        }
      ],
      "source": [
        "bin_clf_data[0:10]"
      ]
    },
    {
      "cell_type": "code",
      "execution_count": 11,
      "metadata": {
        "colab": {
          "base_uri": "https://localhost:8080/"
        },
        "id": "0btAPuA56IY6",
        "outputId": "889b2490-e421-44b6-de76-b599344c4c6e"
      },
      "outputs": [
        {
          "output_type": "stream",
          "name": "stdout",
          "text": [
            "Vocabulary built with 48802 unique tokens.\n"
          ]
        }
      ],
      "source": [
        "# Get Document Vectors With word2vec.\n",
        "document_vectors = use_word2vec(bin_clf_data)"
      ]
    },
    {
      "cell_type": "code",
      "execution_count": 12,
      "metadata": {
        "colab": {
          "base_uri": "https://localhost:8080/"
        },
        "id": "_F7IVS197Kyt",
        "outputId": "6595409e-5a60-4f5d-b833-b1378e9910ab"
      },
      "outputs": [
        {
          "output_type": "stream",
          "name": "stdout",
          "text": [
            "Document Vectors Type: float32\n",
            "Document Vectors Shape: (9162, 100)\n",
            "Labels Type: int64\n",
            "Labels Shape: (9162,)\n",
            "labels\n",
            "0    5862\n",
            "1    3300\n",
            "Name: count, dtype: int64\n"
          ]
        }
      ],
      "source": [
        "print(\"Document Vectors Type:\", document_vectors.dtype)\n",
        "print(\"Document Vectors Shape:\", document_vectors.shape)\n",
        "print(\"Labels Type:\", bin_clf_data['labels'].dtype)\n",
        "print(\"Labels Shape:\", bin_clf_data['labels'].shape)\n",
        "\n",
        "class_counts = bin_clf_data['labels'].value_counts()\n",
        "print(class_counts)"
      ]
    },
    {
      "cell_type": "markdown",
      "metadata": {
        "id": "P6JAjxLEFkTE"
      },
      "source": [
        "# Set Random Seeds"
      ]
    },
    {
      "cell_type": "code",
      "execution_count": 13,
      "metadata": {
        "id": "alkE4fLGOJPK"
      },
      "outputs": [],
      "source": [
        "np.random.seed(42)\n",
        "tf.random.set_seed(42)"
      ]
    },
    {
      "cell_type": "markdown",
      "metadata": {
        "id": "lDitnFP5OEDr"
      },
      "source": [
        "# Models"
      ]
    },
    {
      "cell_type": "markdown",
      "metadata": {
        "id": "a0vr0GOc43tB"
      },
      "source": [
        "## Neural Network"
      ]
    },
    {
      "cell_type": "code",
      "execution_count": 14,
      "metadata": {
        "id": "mzkI6h0_HTja"
      },
      "outputs": [],
      "source": [
        "from keras.callbacks import Callback\n",
        "\n",
        "class EarlyStoppingMovingAverage(Callback):\n",
        "    \"\"\"\n",
        "    Custom Keras callback for early stopping. This callback monitors a moving average\n",
        "    rather than a metric directly to help account for minor fluctuations within the training\n",
        "    process.\n",
        "    \"\"\"\n",
        "    def __init__(self, window_size=5, min_delta=0.001, patience=10, monitor='val_loss', verbose=False, restore_best_weights=True):\n",
        "        super().__init__()\n",
        "        self.window_size = window_size\n",
        "        self.min_delta = min_delta\n",
        "        self.patience = patience\n",
        "        self.monitor = monitor\n",
        "        self.best_weights = None\n",
        "        self.best_epoch = 0\n",
        "        self.wait = 0\n",
        "        self.stopped_epoch = 0\n",
        "        self.verbose = verbose\n",
        "        self.restore_best_weights = restore_best_weights\n",
        "        self.moving_average = []\n",
        "\n",
        "    def on_epoch_end(self, epoch, logs=None):\n",
        "        current = logs.get(self.monitor)\n",
        "        if current is not None:\n",
        "            self.moving_average.append(current)\n",
        "            if len(self.moving_average) > self.window_size:\n",
        "                self.moving_average.pop(0)\n",
        "\n",
        "            moving_avg_value = np.mean(self.moving_average)\n",
        "\n",
        "            if len(self.moving_average) == self.window_size:\n",
        "                if self.best_weights is None or moving_avg_value < self.best + self.min_delta:\n",
        "                    self.best = moving_avg_value\n",
        "                    self.best_epoch = epoch\n",
        "                    self.best_weights = self.model.get_weights()\n",
        "                    self.wait = 0\n",
        "                else:\n",
        "                    self.wait += 1\n",
        "                    if self.wait >= self.patience:\n",
        "                        self.stopped_epoch = epoch\n",
        "                        self.model.stop_training = True\n",
        "                        if self.verbose:\n",
        "                            print(f\"\\nEpoch {epoch + 1}: Early stopping with Moving Average.\")\n",
        "\n",
        "    def on_train_end(self, logs=None):\n",
        "        if self.stopped_epoch > 0 and self.verbose:\n",
        "            print(f\"\\nEpoch {self.stopped_epoch + 1}: Early Stopping.\")\n",
        "        if self.restore_best_weights and self.best_weights is not None:\n",
        "            self.model.set_weights(self.best_weights)\n",
        "\n",
        "\n",
        "# Example Callback Creation.\n",
        "# monitor = metric to monitor for early stopping.\n",
        "# window_size = size of the moving average window.\n",
        "# min_delta = the minimum change in the monitored metric to qualify as an improvement.\n",
        "# patience = number of epochs with no improvement after which training will be stopped.\n",
        "# verbose = boolean; if set to True, print early stopping information.\n",
        "# restore_best_weights = boolean; if set to True, restores model weights from the epoch with the best value of the monitored metric.\n",
        "early_stopping_moving_average_example = EarlyStoppingMovingAverage(\n",
        "    monitor='val_accuracy',\n",
        "    window_size=5,\n",
        "    min_delta=0.01,\n",
        "    patience=15,\n",
        "    verbose=True,\n",
        "    restore_best_weights=True\n",
        ")"
      ]
    },
    {
      "cell_type": "code",
      "execution_count": 15,
      "metadata": {
        "colab": {
          "base_uri": "https://localhost:8080/"
        },
        "id": "dBcTWTAf45X5",
        "outputId": "bb1101c6-50d3-461b-8781-f2449c49c310"
      },
      "outputs": [
        {
          "output_type": "stream",
          "name": "stdout",
          "text": [
            "\n",
            "Training for Fold 1...\n",
            "Epoch 1/50\n",
            "92/92 [==============================] - 3s 11ms/step - loss: 0.3238 - accuracy: 0.8896 - precision: 0.9614 - recall: 0.7219 - val_loss: 0.3160 - val_accuracy: 0.8834 - val_precision: 0.9895 - val_recall: 0.6924\n",
            "Epoch 2/50\n",
            "92/92 [==============================] - 1s 8ms/step - loss: 0.2885 - accuracy: 0.9001 - precision: 0.9954 - recall: 0.7252 - val_loss: 0.3097 - val_accuracy: 0.8861 - val_precision: 1.0000 - val_recall: 0.6924\n",
            "Epoch 3/50\n",
            "92/92 [==============================] - 1s 8ms/step - loss: 0.2877 - accuracy: 0.9011 - precision: 0.9987 - recall: 0.7257 - val_loss: 0.3103 - val_accuracy: 0.8840 - val_precision: 0.9921 - val_recall: 0.6924\n",
            "Epoch 4/50\n",
            "92/92 [==============================] - 1s 8ms/step - loss: 0.2824 - accuracy: 0.9006 - precision: 0.9929 - recall: 0.7285 - val_loss: 0.3068 - val_accuracy: 0.8847 - val_precision: 0.9947 - val_recall: 0.6924\n",
            "Epoch 5/50\n",
            "92/92 [==============================] - 1s 8ms/step - loss: 0.2804 - accuracy: 0.9019 - precision: 0.9974 - recall: 0.7290 - val_loss: 0.3059 - val_accuracy: 0.8847 - val_precision: 0.9921 - val_recall: 0.6943\n",
            "Epoch 6/50\n",
            "92/92 [==============================] - 1s 8ms/step - loss: 0.2737 - accuracy: 0.9026 - precision: 0.9936 - recall: 0.7337 - val_loss: 0.3077 - val_accuracy: 0.8861 - val_precision: 0.9974 - val_recall: 0.6943\n",
            "Epoch 7/50\n",
            "92/92 [==============================] - 1s 8ms/step - loss: 0.2754 - accuracy: 0.9024 - precision: 0.9948 - recall: 0.7323 - val_loss: 0.3092 - val_accuracy: 0.8868 - val_precision: 1.0000 - val_recall: 0.6943\n",
            "Epoch 8/50\n",
            "92/92 [==============================] - 1s 8ms/step - loss: 0.2732 - accuracy: 0.9033 - precision: 0.9968 - recall: 0.7333 - val_loss: 0.3046 - val_accuracy: 0.8861 - val_precision: 0.9974 - val_recall: 0.6943\n",
            "Epoch 9/50\n",
            "92/92 [==============================] - 1s 8ms/step - loss: 0.2742 - accuracy: 0.9038 - precision: 0.9981 - recall: 0.7337 - val_loss: 0.3095 - val_accuracy: 0.8847 - val_precision: 0.9921 - val_recall: 0.6943\n",
            "Epoch 10/50\n",
            "92/92 [==============================] - 1s 8ms/step - loss: 0.2681 - accuracy: 0.9036 - precision: 0.9955 - recall: 0.7352 - val_loss: 0.3112 - val_accuracy: 0.8854 - val_precision: 0.9870 - val_recall: 0.6998\n",
            "Epoch 11/50\n",
            "92/92 [==============================] - 1s 8ms/step - loss: 0.2681 - accuracy: 0.9038 - precision: 0.9936 - recall: 0.7371 - val_loss: 0.3075 - val_accuracy: 0.8854 - val_precision: 0.9947 - val_recall: 0.6943\n",
            "Epoch 12/50\n",
            "92/92 [==============================] - 1s 8ms/step - loss: 0.2665 - accuracy: 0.9040 - precision: 0.9974 - recall: 0.7347 - val_loss: 0.3209 - val_accuracy: 0.8847 - val_precision: 0.9921 - val_recall: 0.6943\n",
            "Epoch 13/50\n",
            "92/92 [==============================] - 1s 11ms/step - loss: 0.2632 - accuracy: 0.9033 - precision: 0.9942 - recall: 0.7352 - val_loss: 0.3009 - val_accuracy: 0.8854 - val_precision: 0.9947 - val_recall: 0.6943\n",
            "Epoch 14/50\n",
            "92/92 [==============================] - 1s 14ms/step - loss: 0.2613 - accuracy: 0.9057 - precision: 0.9936 - recall: 0.7423 - val_loss: 0.3185 - val_accuracy: 0.8847 - val_precision: 0.9921 - val_recall: 0.6943\n",
            "Epoch 15/50\n",
            "92/92 [==============================] - 1s 13ms/step - loss: 0.2604 - accuracy: 0.9035 - precision: 0.9837 - recall: 0.7437 - val_loss: 0.3090 - val_accuracy: 0.8854 - val_precision: 0.9947 - val_recall: 0.6943\n",
            "Epoch 16/50\n",
            "92/92 [==============================] - 1s 14ms/step - loss: 0.2564 - accuracy: 0.9059 - precision: 0.9899 - recall: 0.7456 - val_loss: 0.3308 - val_accuracy: 0.8834 - val_precision: 0.9745 - val_recall: 0.7035\n",
            "Epoch 17/50\n",
            "92/92 [==============================] - 1s 8ms/step - loss: 0.2569 - accuracy: 0.9060 - precision: 0.9881 - recall: 0.7475 - val_loss: 0.3118 - val_accuracy: 0.8820 - val_precision: 0.9793 - val_recall: 0.6961\n",
            "Epoch 18/50\n",
            "92/92 [==============================] - 1s 9ms/step - loss: 0.2563 - accuracy: 0.9062 - precision: 0.9955 - recall: 0.7423 - val_loss: 0.3171 - val_accuracy: 0.8868 - val_precision: 0.9974 - val_recall: 0.6961\n",
            "Epoch 19/50\n",
            "92/92 [==============================] - 1s 8ms/step - loss: 0.2537 - accuracy: 0.9077 - precision: 0.9918 - recall: 0.7494 - val_loss: 0.3076 - val_accuracy: 0.8793 - val_precision: 0.9507 - val_recall: 0.7109\n",
            "Epoch 20/50\n",
            "92/92 [==============================] - 1s 8ms/step - loss: 0.2547 - accuracy: 0.9065 - precision: 0.9857 - recall: 0.7508 - val_loss: 0.3134 - val_accuracy: 0.8813 - val_precision: 0.9624 - val_recall: 0.7072\n",
            "Epoch 21/50\n",
            "92/92 [==============================] - 1s 8ms/step - loss: 0.2511 - accuracy: 0.9087 - precision: 0.9858 - recall: 0.7570 - val_loss: 0.3135 - val_accuracy: 0.8834 - val_precision: 0.9627 - val_recall: 0.7127\n",
            "Epoch 22/50\n",
            "92/92 [==============================] - ETA: 0s - loss: 0.2453 - accuracy: 0.9108 - precision: 0.9823 - recall: 0.7655\n",
            "Epoch 22: Early stopping with Moving Average.\n",
            "92/92 [==============================] - 1s 9ms/step - loss: 0.2453 - accuracy: 0.9108 - precision: 0.9823 - recall: 0.7655 - val_loss: 0.3093 - val_accuracy: 0.8868 - val_precision: 1.0000 - val_recall: 0.6943\n",
            "\n",
            "Epoch 22: Early Stopping.\n",
            "\n",
            "Score for fold 1: loss of 0.2759234607219696; accuracy of 0.9017735123634338.\n",
            "\n",
            "\n",
            "Training for Fold 2...\n",
            "Epoch 1/50\n",
            "92/92 [==============================] - 3s 14ms/step - loss: 0.3336 - accuracy: 0.8857 - precision: 0.9673 - recall: 0.7091 - val_loss: 0.2777 - val_accuracy: 0.9059 - val_precision: 0.9974 - val_recall: 0.7375\n",
            "Epoch 2/50\n",
            "92/92 [==============================] - 1s 13ms/step - loss: 0.2982 - accuracy: 0.8954 - precision: 0.9980 - recall: 0.7133 - val_loss: 0.2685 - val_accuracy: 0.9065 - val_precision: 0.9974 - val_recall: 0.7395\n",
            "Epoch 3/50\n",
            "92/92 [==============================] - 2s 17ms/step - loss: 0.2948 - accuracy: 0.8958 - precision: 0.9987 - recall: 0.7138 - val_loss: 0.2699 - val_accuracy: 0.9072 - val_precision: 1.0000 - val_recall: 0.7395\n",
            "Epoch 4/50\n",
            "92/92 [==============================] - 2s 16ms/step - loss: 0.2873 - accuracy: 0.8965 - precision: 0.9961 - recall: 0.7176 - val_loss: 0.2673 - val_accuracy: 0.9065 - val_precision: 1.0000 - val_recall: 0.7375\n",
            "Epoch 5/50\n",
            "92/92 [==============================] - 1s 9ms/step - loss: 0.2873 - accuracy: 0.8965 - precision: 0.9967 - recall: 0.7171 - val_loss: 0.2724 - val_accuracy: 0.9079 - val_precision: 0.9949 - val_recall: 0.7452\n",
            "Epoch 6/50\n",
            "92/92 [==============================] - 1s 8ms/step - loss: 0.2834 - accuracy: 0.8966 - precision: 0.9954 - recall: 0.7185 - val_loss: 0.2677 - val_accuracy: 0.9072 - val_precision: 1.0000 - val_recall: 0.7395\n",
            "Epoch 7/50\n",
            "92/92 [==============================] - 1s 8ms/step - loss: 0.2802 - accuracy: 0.8968 - precision: 0.9948 - recall: 0.7195 - val_loss: 0.2645 - val_accuracy: 0.9072 - val_precision: 1.0000 - val_recall: 0.7395\n",
            "Epoch 8/50\n",
            "92/92 [==============================] - 1s 8ms/step - loss: 0.2768 - accuracy: 0.8973 - precision: 0.9987 - recall: 0.7180 - val_loss: 0.2630 - val_accuracy: 0.9093 - val_precision: 0.9949 - val_recall: 0.7490\n",
            "Epoch 9/50\n",
            "92/92 [==============================] - 1s 8ms/step - loss: 0.2741 - accuracy: 0.8990 - precision: 0.9923 - recall: 0.7274 - val_loss: 0.2653 - val_accuracy: 0.9072 - val_precision: 0.9849 - val_recall: 0.7510\n",
            "Epoch 10/50\n",
            "92/92 [==============================] - 1s 8ms/step - loss: 0.2714 - accuracy: 0.9018 - precision: 0.9924 - recall: 0.7350 - val_loss: 0.2922 - val_accuracy: 0.8956 - val_precision: 0.9128 - val_recall: 0.7816\n",
            "Epoch 11/50\n",
            "92/92 [==============================] - 1s 8ms/step - loss: 0.2789 - accuracy: 0.8994 - precision: 0.9836 - recall: 0.7350 - val_loss: 0.2754 - val_accuracy: 0.9079 - val_precision: 0.9924 - val_recall: 0.7471\n",
            "Epoch 12/50\n",
            "86/92 [===========================>..] - ETA: 0s - loss: 0.2682 - accuracy: 0.8995 - precision: 0.9866 - recall: 0.7335\n",
            "Epoch 12: Early stopping with Moving Average.\n",
            "92/92 [==============================] - 1s 8ms/step - loss: 0.2701 - accuracy: 0.8980 - precision: 0.9873 - recall: 0.7284 - val_loss: 0.2766 - val_accuracy: 0.9086 - val_precision: 0.9924 - val_recall: 0.7490\n",
            "\n",
            "Epoch 12: Early Stopping.\n",
            "\n",
            "Score for fold 2: loss of 0.29033079743385315; accuracy of 0.8949522376060486.\n",
            "\n",
            "\n",
            "Training for Fold 3...\n",
            "Epoch 1/50\n",
            "92/92 [==============================] - 2s 11ms/step - loss: 0.3236 - accuracy: 0.8844 - precision: 0.9867 - recall: 0.6932 - val_loss: 0.3010 - val_accuracy: 0.8929 - val_precision: 0.9971 - val_recall: 0.6911\n",
            "Epoch 2/50\n",
            "92/92 [==============================] - 1s 8ms/step - loss: 0.2901 - accuracy: 0.8983 - precision: 0.9981 - recall: 0.7235 - val_loss: 0.3116 - val_accuracy: 0.8936 - val_precision: 0.9972 - val_recall: 0.6931\n",
            "Epoch 3/50\n",
            "92/92 [==============================] - 1s 8ms/step - loss: 0.2887 - accuracy: 0.8985 - precision: 0.9974 - recall: 0.7245 - val_loss: 0.3026 - val_accuracy: 0.8922 - val_precision: 0.9702 - val_recall: 0.7089\n",
            "Epoch 4/50\n",
            "92/92 [==============================] - 1s 8ms/step - loss: 0.2841 - accuracy: 0.8995 - precision: 0.9987 - recall: 0.7263 - val_loss: 0.3048 - val_accuracy: 0.8922 - val_precision: 0.9806 - val_recall: 0.7010\n",
            "Epoch 5/50\n",
            "92/92 [==============================] - 1s 9ms/step - loss: 0.2779 - accuracy: 0.8995 - precision: 0.9937 - recall: 0.7301 - val_loss: 0.3032 - val_accuracy: 0.8936 - val_precision: 0.9972 - val_recall: 0.6931\n",
            "Epoch 6/50\n",
            "92/92 [==============================] - 1s 14ms/step - loss: 0.2784 - accuracy: 0.9006 - precision: 0.9924 - recall: 0.7338 - val_loss: 0.2939 - val_accuracy: 0.8936 - val_precision: 0.9888 - val_recall: 0.6990\n",
            "Epoch 7/50\n",
            "92/92 [==============================] - 1s 14ms/step - loss: 0.2776 - accuracy: 0.9004 - precision: 0.9937 - recall: 0.7324 - val_loss: 0.3096 - val_accuracy: 0.8936 - val_precision: 0.9834 - val_recall: 0.7030\n",
            "Epoch 8/50\n",
            "92/92 [==============================] - 1s 15ms/step - loss: 0.2699 - accuracy: 0.9002 - precision: 0.9937 - recall: 0.7319 - val_loss: 0.3085 - val_accuracy: 0.8963 - val_precision: 0.9972 - val_recall: 0.7010\n",
            "Epoch 9/50\n",
            "92/92 [==============================] - 1s 8ms/step - loss: 0.2722 - accuracy: 0.9012 - precision: 0.9937 - recall: 0.7347 - val_loss: 0.2967 - val_accuracy: 0.8956 - val_precision: 0.9972 - val_recall: 0.6990\n",
            "Epoch 10/50\n",
            "92/92 [==============================] - 1s 8ms/step - loss: 0.2667 - accuracy: 0.9007 - precision: 0.9924 - recall: 0.7343 - val_loss: 0.2989 - val_accuracy: 0.8929 - val_precision: 0.9780 - val_recall: 0.7050\n",
            "Epoch 11/50\n",
            "89/92 [============================>.] - ETA: 0s - loss: 0.2697 - accuracy: 0.9015 - precision: 0.9910 - recall: 0.7378\n",
            "Epoch 11: Early stopping with Moving Average.\n",
            "92/92 [==============================] - 1s 8ms/step - loss: 0.2697 - accuracy: 0.9012 - precision: 0.9912 - recall: 0.7366 - val_loss: 0.3054 - val_accuracy: 0.8929 - val_precision: 0.9780 - val_recall: 0.7050\n",
            "\n",
            "Epoch 11: Early Stopping.\n",
            "\n",
            "Score for fold 3: loss of 0.2773374915122986; accuracy of 0.8949522376060486.\n",
            "\n",
            "\n",
            "Training for Fold 4...\n",
            "Epoch 1/50\n",
            "92/92 [==============================] - 2s 11ms/step - loss: 0.3400 - accuracy: 0.8728 - precision: 0.9714 - recall: 0.6699 - val_loss: 0.2720 - val_accuracy: 0.9072 - val_precision: 0.9922 - val_recall: 0.7427\n",
            "Epoch 2/50\n",
            "92/92 [==============================] - 1s 8ms/step - loss: 0.2987 - accuracy: 0.8946 - precision: 0.9980 - recall: 0.7117 - val_loss: 0.2667 - val_accuracy: 0.9093 - val_precision: 0.9974 - val_recall: 0.7447\n",
            "Epoch 3/50\n",
            "92/92 [==============================] - 1s 8ms/step - loss: 0.2947 - accuracy: 0.8954 - precision: 0.9967 - recall: 0.7150 - val_loss: 0.2667 - val_accuracy: 0.9093 - val_precision: 0.9974 - val_recall: 0.7447\n",
            "Epoch 4/50\n",
            "92/92 [==============================] - 1s 8ms/step - loss: 0.2916 - accuracy: 0.8970 - precision: 0.9974 - recall: 0.7187 - val_loss: 0.2620 - val_accuracy: 0.9093 - val_precision: 0.9898 - val_recall: 0.7505\n",
            "Epoch 5/50\n",
            "92/92 [==============================] - 1s 8ms/step - loss: 0.2894 - accuracy: 0.8963 - precision: 0.9929 - recall: 0.7201 - val_loss: 0.2653 - val_accuracy: 0.9093 - val_precision: 0.9974 - val_recall: 0.7447\n",
            "Epoch 6/50\n",
            "92/92 [==============================] - 1s 8ms/step - loss: 0.2837 - accuracy: 0.8972 - precision: 0.9955 - recall: 0.7206 - val_loss: 0.2614 - val_accuracy: 0.9093 - val_precision: 0.9974 - val_recall: 0.7447\n",
            "Epoch 7/50\n",
            "92/92 [==============================] - 1s 8ms/step - loss: 0.2800 - accuracy: 0.8972 - precision: 0.9942 - recall: 0.7215 - val_loss: 0.2592 - val_accuracy: 0.9093 - val_precision: 0.9923 - val_recall: 0.7485\n",
            "Epoch 8/50\n",
            "92/92 [==============================] - 1s 8ms/step - loss: 0.2810 - accuracy: 0.8975 - precision: 0.9942 - recall: 0.7225 - val_loss: 0.2576 - val_accuracy: 0.9079 - val_precision: 0.9872 - val_recall: 0.7485\n",
            "Epoch 9/50\n",
            "92/92 [==============================] - 1s 8ms/step - loss: 0.2812 - accuracy: 0.8977 - precision: 0.9923 - recall: 0.7243 - val_loss: 0.2551 - val_accuracy: 0.9093 - val_precision: 0.9974 - val_recall: 0.7447\n",
            "Epoch 10/50\n",
            "92/92 [==============================] - 1s 12ms/step - loss: 0.2744 - accuracy: 0.8983 - precision: 0.9873 - recall: 0.7300 - val_loss: 0.2820 - val_accuracy: 0.9052 - val_precision: 0.9678 - val_recall: 0.7563\n",
            "Epoch 11/50\n",
            "92/92 [==============================] - 1s 14ms/step - loss: 0.2758 - accuracy: 0.8989 - precision: 0.9923 - recall: 0.7276 - val_loss: 0.2620 - val_accuracy: 0.9100 - val_precision: 0.9873 - val_recall: 0.7544\n",
            "Epoch 12/50\n",
            "92/92 [==============================] - 1s 14ms/step - loss: 0.2782 - accuracy: 0.8995 - precision: 0.9861 - recall: 0.7342 - val_loss: 0.2734 - val_accuracy: 0.9065 - val_precision: 0.9750 - val_recall: 0.7544\n",
            "Epoch 13/50\n",
            "92/92 [==============================] - 1s 10ms/step - loss: 0.2697 - accuracy: 0.8987 - precision: 0.9892 - recall: 0.7295 - val_loss: 0.2672 - val_accuracy: 0.9093 - val_precision: 0.9873 - val_recall: 0.7524\n",
            "Epoch 14/50\n",
            "92/92 [==============================] - 1s 8ms/step - loss: 0.2712 - accuracy: 0.8999 - precision: 0.9819 - recall: 0.7384 - val_loss: 0.2667 - val_accuracy: 0.9072 - val_precision: 0.9681 - val_recall: 0.7621\n",
            "Epoch 15/50\n",
            "92/92 [==============================] - 1s 8ms/step - loss: 0.2638 - accuracy: 0.9016 - precision: 0.9875 - recall: 0.7389 - val_loss: 0.2730 - val_accuracy: 0.9072 - val_precision: 0.9681 - val_recall: 0.7621\n",
            "Epoch 16/50\n",
            "92/92 [==============================] - 1s 8ms/step - loss: 0.2650 - accuracy: 0.9023 - precision: 0.9857 - recall: 0.7421 - val_loss: 0.2943 - val_accuracy: 0.9072 - val_precision: 0.9774 - val_recall: 0.7544\n",
            "Epoch 17/50\n",
            "85/92 [==========================>...] - ETA: 0s - loss: 0.2607 - accuracy: 0.9015 - precision: 0.9780 - recall: 0.7445\n",
            "Epoch 17: Early stopping with Moving Average.\n",
            "92/92 [==============================] - 1s 8ms/step - loss: 0.2604 - accuracy: 0.9011 - precision: 0.9790 - recall: 0.7440 - val_loss: 0.2607 - val_accuracy: 0.9086 - val_precision: 0.9705 - val_recall: 0.7640\n",
            "\n",
            "Epoch 17: Early Stopping.\n",
            "\n",
            "Score for fold 4: loss of 0.26128992438316345; accuracy of 0.9051841497421265.\n",
            "\n",
            "\n",
            "Training for Fold 5...\n",
            "Epoch 1/50\n",
            "92/92 [==============================] - 4s 17ms/step - loss: 0.3270 - accuracy: 0.8782 - precision: 0.9604 - recall: 0.6862 - val_loss: 0.2996 - val_accuracy: 0.8922 - val_precision: 1.0000 - val_recall: 0.7194\n",
            "Epoch 2/50\n",
            "92/92 [==============================] - 1s 8ms/step - loss: 0.2966 - accuracy: 0.8985 - precision: 0.9987 - recall: 0.7159 - val_loss: 0.3176 - val_accuracy: 0.8915 - val_precision: 1.0000 - val_recall: 0.7176\n",
            "Epoch 3/50\n",
            "92/92 [==============================] - 1s 8ms/step - loss: 0.2952 - accuracy: 0.8984 - precision: 0.9953 - recall: 0.7178 - val_loss: 0.2924 - val_accuracy: 0.8928 - val_precision: 1.0000 - val_recall: 0.7211\n",
            "Epoch 4/50\n",
            "92/92 [==============================] - 1s 8ms/step - loss: 0.2863 - accuracy: 0.8996 - precision: 0.9973 - recall: 0.7197 - val_loss: 0.2889 - val_accuracy: 0.8942 - val_precision: 1.0000 - val_recall: 0.7247\n",
            "Epoch 5/50\n",
            "92/92 [==============================] - 1s 8ms/step - loss: 0.2796 - accuracy: 0.8996 - precision: 0.9921 - recall: 0.7235 - val_loss: 0.2906 - val_accuracy: 0.8928 - val_precision: 1.0000 - val_recall: 0.7211\n",
            "Epoch 6/50\n",
            "92/92 [==============================] - 1s 8ms/step - loss: 0.2797 - accuracy: 0.9006 - precision: 0.9974 - recall: 0.7226 - val_loss: 0.2891 - val_accuracy: 0.8915 - val_precision: 0.9856 - val_recall: 0.7282\n",
            "Epoch 7/50\n",
            "92/92 [==============================] - 1s 9ms/step - loss: 0.2782 - accuracy: 0.8999 - precision: 0.9921 - recall: 0.7245 - val_loss: 0.3053 - val_accuracy: 0.8894 - val_precision: 1.0000 - val_recall: 0.7123\n",
            "Epoch 8/50\n",
            "92/92 [==============================] - 1s 8ms/step - loss: 0.2768 - accuracy: 0.9011 - precision: 0.9915 - recall: 0.7283 - val_loss: 0.2858 - val_accuracy: 0.8942 - val_precision: 0.9976 - val_recall: 0.7265\n",
            "Epoch 9/50\n",
            "92/92 [==============================] - 1s 8ms/step - loss: 0.2757 - accuracy: 0.9008 - precision: 0.9947 - recall: 0.7250 - val_loss: 0.3056 - val_accuracy: 0.8962 - val_precision: 0.9952 - val_recall: 0.7336\n",
            "Epoch 10/50\n",
            "92/92 [==============================] - 1s 8ms/step - loss: 0.2708 - accuracy: 0.9009 - precision: 0.9890 - recall: 0.7298 - val_loss: 0.3216 - val_accuracy: 0.8683 - val_precision: 0.8700 - val_recall: 0.7726\n",
            "Epoch 11/50\n",
            "92/92 [==============================] - 1s 8ms/step - loss: 0.2740 - accuracy: 0.8999 - precision: 0.9921 - recall: 0.7245 - val_loss: 0.2900 - val_accuracy: 0.8935 - val_precision: 1.0000 - val_recall: 0.7229\n",
            "Epoch 12/50\n",
            "92/92 [==============================] - 1s 8ms/step - loss: 0.2670 - accuracy: 0.9040 - precision: 0.9929 - recall: 0.7355 - val_loss: 0.3006 - val_accuracy: 0.8942 - val_precision: 0.9904 - val_recall: 0.7318\n",
            "Epoch 13/50\n",
            "87/92 [===========================>..] - ETA: 0s - loss: 0.2667 - accuracy: 0.9034 - precision: 0.9858 - recall: 0.7381\n",
            "Epoch 13: Early stopping with Moving Average.\n",
            "92/92 [==============================] - 1s 9ms/step - loss: 0.2657 - accuracy: 0.9040 - precision: 0.9866 - recall: 0.7403 - val_loss: 0.2952 - val_accuracy: 0.8935 - val_precision: 0.9951 - val_recall: 0.7265\n",
            "\n",
            "Epoch 13: Early Stopping.\n",
            "\n",
            "Score for fold 5: loss of 0.3117298185825348; accuracy of 0.8907849788665771.\n",
            "\n"
          ]
        }
      ],
      "source": [
        "# Ensure data is in NumPy array format\n",
        "document_vectors = np.array(document_vectors)\n",
        "labels = np.array(bin_clf_data['labels'])\n",
        "\n",
        "# Split data into training and test sets\n",
        "document_vectors_train, document_vectors_test, labels_train, labels_test = train_test_split(document_vectors, labels, test_size=0.2, random_state=42)\n",
        "\n",
        "# Configure K-Fold cross validation.\n",
        "kfold = KFold(5, shuffle=True, random_state=42)\n",
        "\n",
        "# Lists to store results for metrics.\n",
        "acc_scores = []\n",
        "precision_scores = []\n",
        "recall_scores = []\n",
        "\n",
        "# Use for tracking 'best' model.\n",
        "best_recall = -1 # Initially set to an impossible low value for base.\n",
        "best_model_weights = None # To store the best model weights.\n",
        "\n",
        "# Train and do 5-Fold cv.\n",
        "fold_no = 1\n",
        "for train, test in kfold.split(document_vectors_train, labels_train):\n",
        "    # Clear session to avoid early stopping and metric naming conflicts.\n",
        "    K.clear_session()\n",
        "\n",
        "    # Define the model.\n",
        "    model = Sequential([\n",
        "        Dense(128, input_dim=document_vectors_train.shape[1]),\n",
        "        LeakyReLU(alpha=0.01),\n",
        "        Dense(256),\n",
        "        LeakyReLU(alpha=0.01),\n",
        "        Dense(256),\n",
        "        LeakyReLU(alpha=0.01),\n",
        "        Dense(256),\n",
        "        Dropout(.3),\n",
        "        LeakyReLU(alpha=0.01),\n",
        "        Dense(256),\n",
        "        Dropout(.3),\n",
        "        LeakyReLU(alpha=0.01),\n",
        "        Dense(1, activation=\"sigmoid\")\n",
        "    ])\n",
        "\n",
        "    # Compile the model.\n",
        "    model.compile(loss='binary_crossentropy',\n",
        "                  optimizer='adam',\n",
        "                  metrics=['accuracy', Precision(), Recall()])\n",
        "\n",
        "    # Define early stopping callbacks. Do this each fold.\n",
        "    early_stopping_accuracy = EarlyStoppingMovingAverage(\n",
        "        monitor='val_accuracy',\n",
        "        window_size=5,\n",
        "        min_delta=0.0025,\n",
        "        patience=4,\n",
        "        verbose=1,\n",
        "        restore_best_weights=True)\n",
        "    early_stopping_precision = EarlyStoppingMovingAverage(\n",
        "        monitor='val_precision',\n",
        "        window_size=5,\n",
        "        min_delta=0.0025,\n",
        "        patience=4,\n",
        "        verbose=1,\n",
        "        restore_best_weights=True)\n",
        "    early_stopping_recall = EarlyStoppingMovingAverage(\n",
        "        monitor='val_recall',\n",
        "        window_size=5,\n",
        "        min_delta=0.0025,\n",
        "        patience=4,\n",
        "        verbose=1,\n",
        "        restore_best_weights=True)\n",
        "\n",
        "    # Perform training.\n",
        "    print(f'\\nTraining for Fold {fold_no}...')\n",
        "\n",
        "    # Fit data to model.\n",
        "    history = model.fit(document_vectors_train[train], labels_train[train],\n",
        "                        batch_size=64,\n",
        "                        epochs=50,\n",
        "                        verbose=1,\n",
        "                        validation_data=(document_vectors_train[test], labels_train[test]),\n",
        "                        callbacks=[early_stopping_accuracy, early_stopping_precision, early_stopping_recall])\n",
        "\n",
        "    # Generate generalization metrics\n",
        "    scores = model.evaluate(document_vectors[test], bin_clf_data['labels'][test], verbose=0)\n",
        "    print(f'\\nScore for fold {fold_no}: {model.metrics_names[0]} of {scores[0]}; {model.metrics_names[1]} of {scores[1]}.\\n')\n",
        "\n",
        "    # Save metrics for fold.\n",
        "    acc_scores.append(scores[1])\n",
        "    precision_scores.append(scores[2])\n",
        "    recall_scores.append(scores[3])\n",
        "\n",
        "    fold_no += 1"
      ]
    },
    {
      "cell_type": "markdown",
      "metadata": {
        "id": "QnrcVeXJXf5y"
      },
      "source": [
        "### Results"
      ]
    },
    {
      "cell_type": "markdown",
      "metadata": {
        "id": "9qegyWqcXuPM"
      },
      "source": [
        "#### Summary Statistics"
      ]
    },
    {
      "cell_type": "code",
      "execution_count": 16,
      "metadata": {
        "colab": {
          "base_uri": "https://localhost:8080/"
        },
        "id": "-6FsI9tnXwe-",
        "outputId": "e1f850c7-0dcd-4dae-9c2b-c4f0b42782d3"
      },
      "outputs": [
        {
          "output_type": "stream",
          "name": "stdout",
          "text": [
            "----- 5-Fold Cross Validation -----\n",
            "Average 0.8975 Accuracy with a standard deviation of 0.0052\n",
            "max: 0.9051841497421265, min: 0.8907849788665771.\n",
            "\n",
            "Average 0.9923 Precision with a standard deviation of 0.0048\n",
            "max: 1.0, min: 0.9871134161949158.\n",
            "\n",
            "Average 0.7193 Recall with a standard deviation of 0.0165\n",
            "max: 0.7471697926521301, min: 0.6996197700500488.\n",
            "\n"
          ]
        }
      ],
      "source": [
        "# Calculate and print summary statistics for each metric\n",
        "def print_formatted_summary(scores, metric_name):\n",
        "    print(f\"Average {np.mean(scores):.4f} {metric_name} with a standard deviation of {np.std(scores):.4f}\")\n",
        "    print(f\"max: {np.max(scores)}, min: {np.min(scores)}.\\n\")\n",
        "\n",
        "print(f\"----- 5-Fold Cross Validation -----\")\n",
        "print_formatted_summary(acc_scores, \"Accuracy\")\n",
        "print_formatted_summary(precision_scores, \"Precision\")\n",
        "print_formatted_summary(recall_scores, \"Recall\")"
      ]
    },
    {
      "cell_type": "markdown",
      "metadata": {
        "id": "tqA0IJWCXjd_"
      },
      "source": [
        "#### Accuracy, Precision, Recall (Over Epoch) Plots"
      ]
    },
    {
      "cell_type": "code",
      "execution_count": 17,
      "metadata": {
        "colab": {
          "base_uri": "https://localhost:8080/",
          "height": 1000
        },
        "id": "j7JMWiZY-YnY",
        "outputId": "73f44f65-d90a-4b33-d7fd-072448dabc6a"
      },
      "outputs": [
        {
          "output_type": "display_data",
          "data": {
            "text/plain": [
              "<Figure size 640x480 with 1 Axes>"
            ],
            "image/png": "[encoded data removed]"
          },
          "metadata": {}
        },
        {
          "output_type": "display_data",
          "data": {
            "text/plain": [
              "<Figure size 640x480 with 1 Axes>"
            ],
            "image/png": "[encoded data removed]"
          },
          "metadata": {}
        },
        {
          "output_type": "display_data",
          "data": {
            "text/plain": [
              "<Figure size 640x480 with 1 Axes>"
            ],
            "image/png": "[encoded data removed]"
          },
          "metadata": {}
        }
      ],
      "source": [
        "precision = history.history['precision']\n",
        "recall = history.history['recall']\n",
        "accuracy = history.history['accuracy']\n",
        "val_precision = history.history['val_precision']\n",
        "val_recall = history.history['val_recall']\n",
        "val_accuracy = history.history['val_accuracy']\n",
        "\n",
        "epochs = range(1, len(precision) + 1)\n",
        "\n",
        "# Plot Precision Over Epochs\n",
        "plt.figure()\n",
        "plt.plot(epochs, precision, 'b', label='Training Precision', linestyle='-', marker='o')\n",
        "plt.plot(epochs, val_precision, 'g', label='Validation Precision', linestyle='--', marker='x')\n",
        "plt.title('Training and Validation Precision')\n",
        "plt.xlabel('Epochs')\n",
        "plt.ylabel('Precision')\n",
        "plt.legend()\n",
        "plt.show()\n",
        "\n",
        "# Plot Recall Over Epochs\n",
        "plt.figure()\n",
        "plt.plot(epochs, recall, 'r', label='Training Recall', linestyle='-', marker='o')\n",
        "plt.plot(epochs, val_recall, 'm', label='Validation Recall', linestyle='--', marker='x')\n",
        "plt.title('Training and Validation Recall')\n",
        "plt.xlabel('Epochs')\n",
        "plt.ylabel('Recall')\n",
        "plt.legend()\n",
        "plt.show()\n",
        "\n",
        "# Plotting Accuracy Over Epochs\n",
        "plt.figure()\n",
        "plt.plot(epochs, accuracy, 'c', label='Training Accuracy', linestyle='-', marker='o')\n",
        "plt.plot(epochs, val_accuracy, 'y', label='Validation Accuracy', linestyle='--', marker='x')\n",
        "plt.title('Training and Validation Accuracy')\n",
        "plt.xlabel('Epochs')\n",
        "plt.ylabel('Accuracy')\n",
        "plt.legend()\n",
        "plt.show()"
      ]
    },
    {
      "cell_type": "markdown",
      "metadata": {
        "id": "AcZEPt4hYQs9"
      },
      "source": [
        "#### Classification Report & Confusion Matrix"
      ]
    },
    {
      "cell_type": "code",
      "execution_count": 18,
      "metadata": {
        "colab": {
          "base_uri": "https://localhost:8080/",
          "height": 802
        },
        "id": "FeY6rU2lM0Xm",
        "outputId": "2fbfc741-4b3e-4140-89e0-9a585ae11150"
      },
      "outputs": [
        {
          "output_type": "stream",
          "name": "stdout",
          "text": [
            "58/58 [==============================] - 0s 2ms/step\n",
            "Classification Report:\n",
            "               precision    recall  f1-score   support\n",
            "\n",
            "     Non-PII       0.86      0.99      0.92      1183\n",
            "         PII       0.98      0.70      0.82       650\n",
            "\n",
            "    accuracy                           0.89      1833\n",
            "   macro avg       0.92      0.85      0.87      1833\n",
            "weighted avg       0.90      0.89      0.88      1833\n",
            "\n",
            "Confusion Matrix:\n",
            " [[1173   10]\n",
            " [ 192  458]]\n"
          ]
        },
        {
          "output_type": "display_data",
          "data": {
            "text/plain": [
              "<Figure size 800x600 with 2 Axes>"
            ],
            "image/png": "[encoded data removed]"
          },
          "metadata": {}
        }
      ],
      "source": [
        "# Load the best model based on recall.\n",
        "predictions = model.predict(document_vectors_test)\n",
        "predicted_classes = (predictions > 0.5).astype(int)\n",
        "\n",
        "# Generate classification report\n",
        "class_report = classification_report(labels_test, predicted_classes, target_names=['Non-PII', 'PII'])\n",
        "print(\"Classification Report:\\n\", class_report)\n",
        "\n",
        "# Generate confusion matrix\n",
        "conf_matrix = confusion_matrix(labels_test, predicted_classes)\n",
        "print(\"Confusion Matrix:\\n\", conf_matrix)\n",
        "\n",
        "# Plot fancy confusion matrix :D\n",
        "plt.figure(figsize=(8, 6))\n",
        "sns.heatmap(conf_matrix, annot=True, fmt='d', cmap='Blues', xticklabels=['Non-PII', 'PII'], yticklabels=['Non-PII', 'PII'])\n",
        "plt.title('Confusion Matrix')\n",
        "plt.xlabel('Predicted Labels')\n",
        "plt.ylabel('True Labels')\n",
        "plt.show()"
      ]
    },
    {
      "cell_type": "markdown",
      "metadata": {
        "id": "REjWcQemAyvG"
      },
      "source": [
        "#### Precision-Recall Plot"
      ]
    },
    {
      "cell_type": "code",
      "execution_count": 19,
      "metadata": {
        "colab": {
          "base_uri": "https://localhost:8080/",
          "height": 564
        },
        "id": "gbsUTvjlAK6j",
        "outputId": "7d742736-bc71-4494-cea3-e14146461406"
      },
      "outputs": [
        {
          "output_type": "display_data",
          "data": {
            "text/plain": [
              "<Figure size 800x600 with 1 Axes>"
            ],
            "image/png": "[encoded data removed]"
          },
          "metadata": {}
        }
      ],
      "source": [
        "precision, recall, thresholds = precision_recall_curve(labels_test, predictions)\n",
        "\n",
        "# Plot the precision-recall plot.\n",
        "plt.figure(figsize=(8, 6))\n",
        "plt.plot(recall, precision, label=f'Precision-Recall Curve')\n",
        "plt.title('Precision-Recall Curve for Neural Network')\n",
        "plt.xlabel('Recall')\n",
        "plt.ylabel('Precision')\n",
        "plt.grid(True)\n",
        "plt.show()"
      ]
    },
    {
      "cell_type": "markdown",
      "metadata": {
        "id": "DuY3NxEq9Usm"
      },
      "source": [
        "## Naive Bayes"
      ]
    },
    {
      "cell_type": "code",
      "execution_count": 20,
      "metadata": {
        "id": "ElcvWGPF9rZA"
      },
      "outputs": [],
      "source": [
        "# Convert tokenized text to strings\n",
        "X = [' '.join(tokens) for tokens in bin_clf_data['tokens']]\n",
        "y = bin_clf_data['labels']"
      ]
    },
    {
      "cell_type": "code",
      "execution_count": 21,
      "metadata": {
        "colab": {
          "base_uri": "https://localhost:8080/",
          "height": 74
        },
        "id": "TvV7gdZZ9VX-",
        "outputId": "7c0f58f0-4188-4e5f-c093-387a19c090c5"
      },
      "outputs": [
        {
          "output_type": "execute_result",
          "data": {
            "text/plain": [
              "MultinomialNB()"
            ],
            "text/html": [
              "<style>#sk-container-id-1 {color: black;background-color: white;}#sk-container-id-1 pre{padding: 0;}#sk-container-id-1 div.sk-toggleable {background-color: white;}#sk-container-id-1 label.sk-toggleable__label {cursor: pointer;display: block;width: 100%;margin-bottom: 0;padding: 0.3em;box-sizing: border-box;text-align: center;}#sk-container-id-1 label.sk-toggleable__label-arrow:before {content: \"▸\";float: left;margin-right: 0.25em;color: #696969;}#sk-container-id-1 label.sk-toggleable__label-arrow:hover:before {color: black;}#sk-container-id-1 div.sk-estimator:hover label.sk-toggleable__label-arrow:before {color: black;}#sk-container-id-1 div.sk-toggleable__content {max-height: 0;max-width: 0;overflow: hidden;text-align: left;background-color: #f0f8ff;}#sk-container-id-1 div.sk-toggleable__content pre {margin: 0.2em;color: black;border-radius: 0.25em;background-color: #f0f8ff;}#sk-container-id-1 input.sk-toggleable__control:checked~div.sk-toggleable__content {max-height: 200px;max-width: 100%;overflow: auto;}#sk-container-id-1 input.sk-toggleable__control:checked~label.sk-toggleable__label-arrow:before {content: \"▾\";}#sk-container-id-1 div.sk-estimator input.sk-toggleable__control:checked~label.sk-toggleable__label {background-color: #d4ebff;}#sk-container-id-1 div.sk-label input.sk-toggleable__control:checked~label.sk-toggleable__label {background-color: #d4ebff;}#sk-container-id-1 input.sk-hidden--visually {border: 0;clip: rect(1px 1px 1px 1px);clip: rect(1px, 1px, 1px, 1px);height: 1px;margin: -1px;overflow: hidden;padding: 0;position: absolute;width: 1px;}#sk-container-id-1 div.sk-estimator {font-family: monospace;background-color: #f0f8ff;border: 1px dotted black;border-radius: 0.25em;box-sizing: border-box;margin-bottom: 0.5em;}#sk-container-id-1 div.sk-estimator:hover {background-color: #d4ebff;}#sk-container-id-1 div.sk-parallel-item::after {content: \"\";width: 100%;border-bottom: 1px solid gray;flex-grow: 1;}#sk-container-id-1 div.sk-label:hover label.sk-toggleable__label {background-color: #d4ebff;}#sk-container-id-1 div.sk-serial::before {content: \"\";position: absolute;border-left: 1px solid gray;box-sizing: border-box;top: 0;bottom: 0;left: 50%;z-index: 0;}#sk-container-id-1 div.sk-serial {display: flex;flex-direction: column;align-items: center;background-color: white;padding-right: 0.2em;padding-left: 0.2em;position: relative;}#sk-container-id-1 div.sk-item {position: relative;z-index: 1;}#sk-container-id-1 div.sk-parallel {display: flex;align-items: stretch;justify-content: center;background-color: white;position: relative;}#sk-container-id-1 div.sk-item::before, #sk-container-id-1 div.sk-parallel-item::before {content: \"\";position: absolute;border-left: 1px solid gray;box-sizing: border-box;top: 0;bottom: 0;left: 50%;z-index: -1;}#sk-container-id-1 div.sk-parallel-item {display: flex;flex-direction: column;z-index: 1;position: relative;background-color: white;}#sk-container-id-1 div.sk-parallel-item:first-child::after {align-self: flex-end;width: 50%;}#sk-container-id-1 div.sk-parallel-item:last-child::after {align-self: flex-start;width: 50%;}#sk-container-id-1 div.sk-parallel-item:only-child::after {width: 0;}#sk-container-id-1 div.sk-dashed-wrapped {border: 1px dashed gray;margin: 0 0.4em 0.5em 0.4em;box-sizing: border-box;padding-bottom: 0.4em;background-color: white;}#sk-container-id-1 div.sk-label label {font-family: monospace;font-weight: bold;display: inline-block;line-height: 1.2em;}#sk-container-id-1 div.sk-label-container {text-align: center;}#sk-container-id-1 div.sk-container {/* jupyter's `normalize.less` sets `[hidden] { display: none; }` but bootstrap.min.css set `[hidden] { display: none !important; }` so we also need the `!important` here to be able to override the default hidden behavior on the sphinx rendered scikit-learn.org. See: https://github.com/scikit-learn/scikit-learn/issues/21755 */display: inline-block !important;position: relative;}#sk-container-id-1 div.sk-text-repr-fallback {display: none;}</style><div id=\"sk-container-id-1\" class=\"sk-top-container\"><div class=\"sk-text-repr-fallback\"><pre>MultinomialNB()</pre><b>In a Jupyter environment, please rerun this cell to show the HTML representation or trust the notebook. <br />On GitHub, the HTML representation is unable to render, please try loading this page with nbviewer.org.</b></div><div class=\"sk-container\" hidden><div class=\"sk-item\"><div class=\"sk-estimator sk-toggleable\"><input class=\"sk-toggleable__control sk-hidden--visually\" id=\"sk-estimator-id-1\" type=\"checkbox\" checked><label for=\"sk-estimator-id-1\" class=\"sk-toggleable__label sk-toggleable__label-arrow\">MultinomialNB</label><div class=\"sk-toggleable__content\"><pre>MultinomialNB()</pre></div></div></div></div></div>"
            ]
          },
          "metadata": {},
          "execution_count": 21
        }
      ],
      "source": [
        "vectorizer = CountVectorizer()\n",
        "X_vectorized = vectorizer.fit_transform(X)\n",
        "\n",
        "# Split test and training data (with 80-20 split).\n",
        "X_train, X_test, y_train, y_test = train_test_split(X_vectorized, y, test_size=0.2, random_state=0)\n",
        "\n",
        "nb_classifier = MultinomialNB()\n",
        "nb_classifier.fit(X_train, y_train)"
      ]
    },
    {
      "cell_type": "code",
      "execution_count": 22,
      "metadata": {
        "colab": {
          "base_uri": "https://localhost:8080/"
        },
        "id": "kkIgIFcu9WTR",
        "outputId": "fd641891-5478-4951-f4df-9b4be69d0edf"
      },
      "outputs": [
        {
          "output_type": "stream",
          "name": "stdout",
          "text": [
            "----- 5-Fold Cross Validation -----\n",
            "Average 0.8917 accuracy with a standard deviation of 0.0050\n",
            "max: 0.8976109215017065, min: 0.8826739427012278.\n",
            "\n",
            "Average 0.9844 precision with a standard deviation of 0.0044\n",
            "max: 0.9895561357702349, min: 0.9773869346733668.\n",
            "\n",
            "Average 0.7118 recall with a standard deviation of 0.0145\n",
            "max: 0.7339622641509433, min: 0.6886792452830188.\n",
            "\n",
            "Average 0.8737 f1-score with a standard deviation of 0.0064\n",
            "max: 0.881718497020221, min: 0.8622917872707612.\n",
            "\n"
          ]
        }
      ],
      "source": [
        "# Perform 5-fold cross validation on the model.\n",
        "acc_cv_score = cross_val_score(nb_classifier, X_train, y_train, cv=5, scoring=\"accuracy\")\n",
        "precision_cv_score = cross_val_score(nb_classifier, X_train, y_train, cv=5, scoring=\"precision\")\n",
        "recall_cv_score = cross_val_score(nb_classifier, X_train, y_train, cv=5, scoring=\"recall\")\n",
        "f1_cv_score = cross_val_score(nb_classifier, X_train, y_train, cv=5, scoring=\"f1_macro\")\n",
        "\n",
        "print(\"----- 5-Fold Cross Validation -----\")\n",
        "print(\"Average %0.4f accuracy with a standard deviation of %0.4f\" % (acc_cv_score.mean(), acc_cv_score.std()))\n",
        "print(f\"max: {acc_cv_score.max()}, min: {acc_cv_score.min()}.\\n\")\n",
        "print(\"Average %0.4f precision with a standard deviation of %0.4f\" % (precision_cv_score.mean(), precision_cv_score.std()))\n",
        "print(f\"max: {precision_cv_score.max()}, min: {precision_cv_score.min()}.\\n\")\n",
        "print(\"Average %0.4f recall with a standard deviation of %0.4f\" % (recall_cv_score.mean(), recall_cv_score.std()))\n",
        "print(f\"max: {recall_cv_score.max()}, min: {recall_cv_score.min()}.\\n\")\n",
        "print(\"Average %0.4f f1-score with a standard deviation of %0.4f\" % (f1_cv_score.mean(), f1_cv_score.std()))\n",
        "print(f\"max: {f1_cv_score.max()}, min: {f1_cv_score.min()}.\\n\")"
      ]
    },
    {
      "cell_type": "code",
      "execution_count": 23,
      "metadata": {
        "colab": {
          "base_uri": "https://localhost:8080/",
          "height": 1000
        },
        "id": "XPKuxTSy9X-A",
        "outputId": "61329b5c-158b-48d6-eb8c-0905dd453a1d"
      },
      "outputs": [
        {
          "output_type": "stream",
          "name": "stdout",
          "text": [
            "----- Test Data Results -----\n",
            "Accuracy: 0.9012547735951991\n",
            "\n",
            "Report:\n",
            "              precision    recall  f1-score   support\n",
            "\n",
            "           0       0.87      0.99      0.93      1184\n",
            "           1       0.99      0.73      0.84       649\n",
            "\n",
            "    accuracy                           0.90      1833\n",
            "   macro avg       0.93      0.86      0.88      1833\n",
            "weighted avg       0.91      0.90      0.90      1833\n",
            "\n"
          ]
        },
        {
          "output_type": "display_data",
          "data": {
            "text/plain": [
              "<Figure size 800x600 with 2 Axes>"
            ],
            "image/png": "[encoded data removed]"
          },
          "metadata": {}
        },
        {
          "output_type": "display_data",
          "data": {
            "text/plain": [
              "<Figure size 640x480 with 1 Axes>"
            ],
            "image/png": "[encoded data removed]"
          },
          "metadata": {}
        }
      ],
      "source": [
        "# Evaluate model using test data.\n",
        "predictions = nb_classifier.predict(X_test)\n",
        "\n",
        "accuracy = accuracy_score(y_test, predictions)\n",
        "clf_report = classification_report(y_test, predictions)\n",
        "conf_matrix = confusion_matrix(y_test, predictions)\n",
        "\n",
        "# Output results.\n",
        "print(\"----- Test Data Results -----\")\n",
        "print(f'Accuracy: {accuracy}\\n')\n",
        "print(f'Report:\\n{clf_report}')\n",
        "\n",
        "# Plot fancy confusion matrix :D\n",
        "plt.figure(figsize=(8, 6))\n",
        "sns.heatmap(conf_matrix, annot=True, fmt='d', cmap='Blues', xticklabels=['Non-PII', 'PII'], yticklabels=['Non-PII', 'PII'])\n",
        "plt.title('Confusion Matrix for Naive-Bayes')\n",
        "plt.xlabel('Predicted Labels')\n",
        "plt.ylabel('True Labels')\n",
        "plt.show()\n",
        "\n",
        "# Compute precision and recall for plotting\n",
        "precision_test, recall_test, thresholds = precision_recall_curve(y_test, predictions)\n",
        "\n",
        "# Plot the precision-recall curve for the test set\n",
        "plt.plot(recall_test, precision_test, label=\"Test Metrics\")\n",
        "plt.xlabel(\"Precision\")\n",
        "plt.ylabel(\"Recall\")\n",
        "plt.title(\"Precision-Recall Curve for Naive-Bayes\")\n",
        "plt.legend()\n",
        "plt.show()"
      ]
    },
    {
      "cell_type": "markdown",
      "metadata": {
        "id": "SeFqJj3OR3GI"
      },
      "source": [
        "## Random Forest Classifier"
      ]
    },
    {
      "cell_type": "code",
      "execution_count": 24,
      "metadata": {
        "id": "AZDRGkIbR176"
      },
      "outputs": [],
      "source": [
        "from sklearn.ensemble import RandomForestClassifier\n",
        "from sklearn.model_selection import RandomizedSearchCV\n",
        "from gensim.models import Word2Vec\n",
        "from tensorflow.keras.preprocessing.text import one_hot, Tokenizer\n",
        "from tensorflow.keras.preprocessing.sequence import pad_sequences\n",
        "from tensorflow.keras.models import Sequential\n",
        "from tensorflow.keras.layers import Embedding, Dense, LeakyReLU, Dropout\n",
        "from sklearn.model_selection import train_test_split\n",
        "from tensorflow.keras.metrics import Precision, Recall, BinaryAccuracy\n",
        "from tensorflow.keras.optimizers.schedules import ExponentialDecay\n",
        "from tensorflow.keras.optimizers import Adam\n",
        "\n",
        "#from imblearn.ensemble import BalancedRandomForestClassifier - didnt work\n",
        "\n",
        "vectorizer = CountVectorizer()\n",
        "X_vectorized = vectorizer.fit_transform(X)\n",
        "\n",
        "# Split test and training data (with 80-20 split).\n",
        "X_train, X_test, y_train, y_test = train_test_split(X_vectorized, y, test_size=0.2, random_state=0)\n",
        "X_train, X_val, y_train, y_val = train_test_split(X_train, y_train, test_size=0.2, random_state=0)\n",
        "\n",
        "param_distributions = {\n",
        "    'n_estimators': [100, 200, 300, 400, 500],\n",
        "    'max_depth': [None, 10, 20, 30, 40, 50],\n",
        "}\n",
        "\n",
        "#Train RF classifier\n",
        "rf_classifier = RandomForestClassifier(n_estimators=100, random_state=0)\n",
        "rf_classifier.fit(X_train, y_train)\n",
        "\n",
        "# Prepare for cross-validation\n",
        "rf_classifier = RandomizedSearchCV(rf_classifier, param_distributions, n_iter=5, scoring='recall', cv=3, random_state=0).fit(X_val, y_val)"
      ]
    },
    {
      "cell_type": "code",
      "source": [
        "# Perform 5-fold cross validation on the model.\n",
        "acc_cv_score = cross_val_score(rf_classifier, X_train, y_train, cv=5, scoring=\"accuracy\")\n",
        "precision_cv_score = cross_val_score(rf_classifier, X_train, y_train, cv=5, scoring=\"precision\")\n",
        "recall_cv_score = cross_val_score(rf_classifier, X_train, y_train, cv=5, scoring=\"recall\")\n",
        "f1_cv_score = cross_val_score(rf_classifier, X_train, y_train, cv=5, scoring=\"f1_macro\")\n",
        "\n",
        "print(\"----- 5-Fold Cross Validation -----\")\n",
        "print(\"Average %0.4f accuracy with a standard deviation of %0.4f\" % (acc_cv_score.mean(), acc_cv_score.std()))\n",
        "print(f\"max: {acc_cv_score.max()}, min: {acc_cv_score.min()}.\\n\")\n",
        "print(\"Average %0.4f precision with a standard deviation of %0.4f\" % (precision_cv_score.mean(), precision_cv_score.std()))\n",
        "print(f\"max: {precision_cv_score.max()}, min: {precision_cv_score.min()}.\\n\")\n",
        "print(\"Average %0.4f recall with a standard deviation of %0.4f\" % (recall_cv_score.mean(), recall_cv_score.std()))\n",
        "print(f\"max: {recall_cv_score.max()}, min: {recall_cv_score.min()}.\\n\")\n",
        "print(\"Average %0.4f f1-score with a standard deviation of %0.4f\" % (f1_cv_score.mean(), f1_cv_score.std()))\n",
        "print(f\"max: {f1_cv_score.max()}, min: {f1_cv_score.min()}.\\n\")"
      ],
      "metadata": {
        "id": "wGnmzc4eOUn5"
      },
      "execution_count": null,
      "outputs": []
    },
    {
      "cell_type": "code",
      "source": [
        "#Predict the labels for test data\n",
        "y_pred = rf_classifier.predict(X_test)\n",
        "\n",
        "#Evaluate this classifier\n",
        "accuracy = accuracy_score(y_test, y_pred)\n",
        "report = classification_report(y_test, y_pred)\n",
        "conf_matrix = confusion_matrix(y_test, y_pred)\n",
        "\n",
        "print(f'Accuracy: {accuracy}')\n",
        "print(f'Classification Report:\\n{report}')\n",
        "\n",
        "# Plot fancy confusion matrix :D\n",
        "plt.figure(figsize=(8, 6))\n",
        "sns.heatmap(conf_matrix, annot=True, fmt='d', cmap='Blues', xticklabels=['Non-PII', 'PII'], yticklabels=['Non-PII', 'PII'])\n",
        "plt.title('Confusion Matrix for Random Forest Classifier')\n",
        "plt.xlabel('Predicted Labels')\n",
        "plt.ylabel('True Labels')\n",
        "plt.show()\n",
        "\n",
        "# Compute precision and recall for plotting\n",
        "precision_test, recall_test, thresholds = precision_recall_curve(y_test, y_pred)\n",
        "\n",
        "# Plot the precision-recall curve for the test set\n",
        "plt.plot(recall_test, precision_test, label=\"Test Metrics\")\n",
        "plt.xlabel(\"Recall\")\n",
        "plt.ylabel(\"Precision\")\n",
        "plt.title(\"Precision-Recall Curve Test for Random Forest Classifier\")\n",
        "plt.legend()\n",
        "plt.show()"
      ],
      "metadata": {
        "id": "O39-w7aSOS6r"
      },
      "execution_count": null,
      "outputs": []
    },
    {
      "cell_type": "code",
      "source": [
        "feature_names = bin_clf_data.columns.tolist()\n",
        "importances = model.feature_importances_\n",
        "indices = np.argsort(importances)[::-1]\n",
        "feature_importance_df = pd.DataFrame(importances, index=feature_names, columns=['Importance']).sort_values(by='Importance', ascending=False)\n",
        "\n",
        "plt.figure(figsize=(10, 6))\n",
        "plt.title('Feature Importances')\n",
        "plt.bar(range(len(importances)), importances[indices], color='b', align='center')\n",
        "plt.xticks(range(len(importances)), [feature_names[i] for i in indices], rotation=45)\n",
        "plt.xlabel('Features')\n",
        "plt.ylabel('Importance')\n",
        "plt.tight_layout()\n",
        "plt.show()"
      ],
      "metadata": {
        "id": "s9GTc_ZX64-x"
      },
      "execution_count": null,
      "outputs": []
    },
    {
      "cell_type": "code",
      "source": [],
      "metadata": {
        "id": "U43q8nlyOMiE"
      },
      "execution_count": null,
      "outputs": []
    },
    {
      "cell_type": "markdown",
      "metadata": {
        "id": "zJJZ6zN8cYs1"
      },
      "source": [
        "## Logistic Regression"
      ]
    },
    {
      "cell_type": "code",
      "execution_count": null,
      "metadata": {
        "id": "UPhonAhrcbWT"
      },
      "outputs": [],
      "source": [
        "# Initializing the Model and Datasets\n",
        "from sklearn.linear_model import LogisticRegression\n",
        "classifier_model = LogisticRegression(random_state=42, solver='liblinear')\n",
        "\n",
        "# Getting the count from each sentence in terms of frequency\n",
        "vectorizer = CountVectorizer()\n",
        "X_vectorized = vectorizer.fit_transform(X)\n",
        "\n",
        "# Split test and training data (with 80-20 split).\n",
        "X_train, X_test, y_train, y_test = train_test_split(document_vectors, y, test_size=0.2, random_state=0)\n",
        "\n",
        "# Training and testing the Model\n",
        "classifier_model.fit(X_train, y_train)\n",
        "\n",
        "y_pred = classifier_model.predict(X_test)\n",
        "y_predproba = classifier_model.predict_proba(X_test)"
      ]
    },
    {
      "cell_type": "markdown",
      "metadata": {
        "id": "NQnGKz9njkl6"
      },
      "source": [
        "###Plotting and Evaluating the Model"
      ]
    },
    {
      "cell_type": "code",
      "source": [
        "# Perform 5-fold cross validation on the model.\n",
        "acc_cv_score = cross_val_score(classifier_model, X_train, y_train, cv=5, scoring=\"accuracy\")\n",
        "precision_cv_score = cross_val_score(classifier_model, X_train, y_train, cv=5, scoring=\"precision\")\n",
        "recall_cv_score = cross_val_score(classifier_model, X_train, y_train, cv=5, scoring=\"recall\")\n",
        "f1_cv_score = cross_val_score(classifier_model, X_train, y_train, cv=5, scoring=\"f1_macro\")\n",
        "\n",
        "print(\"----- 5-Fold Cross Validation -----\")\n",
        "print(\"Average %0.4f accuracy with a standard deviation of %0.4f\" % (acc_cv_score.mean(), acc_cv_score.std()))\n",
        "print(f\"max: {acc_cv_score.max()}, min: {acc_cv_score.min()}.\\n\")\n",
        "print(\"Average %0.4f precision with a standard deviation of %0.4f\" % (precision_cv_score.mean(), precision_cv_score.std()))\n",
        "print(f\"max: {precision_cv_score.max()}, min: {precision_cv_score.min()}.\\n\")\n",
        "print(\"Average %0.4f recall with a standard deviation of %0.4f\" % (recall_cv_score.mean(), recall_cv_score.std()))\n",
        "print(f\"max: {recall_cv_score.max()}, min: {recall_cv_score.min()}.\\n\")\n",
        "print(\"Average %0.4f f1-score with a standard deviation of %0.4f\" % (f1_cv_score.mean(), f1_cv_score.std()))\n",
        "print(f\"max: {f1_cv_score.max()}, min: {f1_cv_score.min()}.\\n\")"
      ],
      "metadata": {
        "id": "m-b9DDrQWFAN"
      },
      "execution_count": null,
      "outputs": []
    },
    {
      "cell_type": "code",
      "execution_count": null,
      "metadata": {
        "id": "f_3Cuhlcjoau"
      },
      "outputs": [],
      "source": [
        "#Evaluate this classifier\n",
        "accuracy = accuracy_score(y_test, y_pred)\n",
        "report = classification_report(y_test, y_pred)\n",
        "conf_matrix = confusion_matrix(y_test, y_pred)\n",
        "\n",
        "print(f'Accuracy: {accuracy}')\n",
        "print(f'Classification Report:\\n{report}')\n",
        "\n",
        "# Plot fancy confusion matrix :D\n",
        "plt.figure(figsize=(8, 6))\n",
        "sns.heatmap(conf_matrix, annot=True, fmt='d', cmap='Blues', xticklabels=['Non-PII', 'PII'], yticklabels=['Non-PII', 'PII'])\n",
        "plt.title('Confusion Matrix for Logistic Regression')\n",
        "plt.xlabel('Predicted Labels')\n",
        "plt.ylabel('True Labels')\n",
        "plt.show()\n",
        "\n",
        "# Compute precision and recall for plotting\n",
        "precision_test, recall_test, thresholds = precision_recall_curve(y_test, y_pred)\n",
        "\n",
        "# Plot the precision-recall curve for the test set\n",
        "plt.plot(recall_test, precision_test, label=\"Test Metrics\")\n",
        "plt.xlabel(\"Recall\")\n",
        "plt.ylabel(\"Precision\")\n",
        "plt.title(\"Precision-Recall Curve Test for Logistic Regression\")\n",
        "plt.legend()\n",
        "plt.show()"
      ]
    },
    {
      "cell_type": "markdown",
      "metadata": {
        "id": "_s50vApkdDzX"
      },
      "source": [
        "## Support Vector Machine (I suppose)"
      ]
    },
    {
      "cell_type": "code",
      "execution_count": null,
      "metadata": {
        "id": "DsEOEHOAdGur"
      },
      "outputs": [],
      "source": [
        "# Initializing the Model and Datasets\n",
        "from sklearn.svm import SVC\n",
        "classifier_model = SVC(kernel='sigmoid', random_state=42)\n",
        "\n",
        "# Getting the count from each sentence in terms of frequency\n",
        "vectorizer = CountVectorizer()\n",
        "X_vectorized = vectorizer.fit_transform(X)\n",
        "\n",
        "# Split test and training data (with 80-20 split).\n",
        "X_train, X_test, y_train, y_test = train_test_split(X_vectorized, y, test_size=0.2, random_state=0)\n",
        "\n",
        "# Training and testing the Model\n",
        "classifier_model.fit(X_train, y_train)\n",
        "\n",
        "y_pred = classifier_model.predict(X_test)"
      ]
    },
    {
      "cell_type": "markdown",
      "metadata": {
        "id": "jP25MKncpgV0"
      },
      "source": [
        "### Plotting and Evaluating SVM"
      ]
    },
    {
      "cell_type": "code",
      "source": [
        "# Perform 5-fold cross validation on the model.\n",
        "acc_cv_score = cross_val_score(classifier_model, X_train, y_train, cv=5, scoring=\"accuracy\")\n",
        "precision_cv_score = cross_val_score(classifier_model, X_train, y_train, cv=5, scoring=\"precision\")\n",
        "recall_cv_score = cross_val_score(classifier_model, X_train, y_train, cv=5, scoring=\"recall\")\n",
        "f1_cv_score = cross_val_score(classifier_model, X_train, y_train, cv=5, scoring=\"f1_macro\")\n",
        "\n",
        "print(\"----- 5-Fold Cross Validation -----\")\n",
        "print(\"Average %0.4f accuracy with a standard deviation of %0.4f\" % (acc_cv_score.mean(), acc_cv_score.std()))\n",
        "print(f\"max: {acc_cv_score.max()}, min: {acc_cv_score.min()}.\\n\")\n",
        "print(\"Average %0.4f precision with a standard deviation of %0.4f\" % (precision_cv_score.mean(), precision_cv_score.std()))\n",
        "print(f\"max: {precision_cv_score.max()}, min: {precision_cv_score.min()}.\\n\")\n",
        "print(\"Average %0.4f recall with a standard deviation of %0.4f\" % (recall_cv_score.mean(), recall_cv_score.std()))\n",
        "print(f\"max: {recall_cv_score.max()}, min: {recall_cv_score.min()}.\\n\")\n",
        "print(\"Average %0.4f f1-score with a standard deviation of %0.4f\" % (f1_cv_score.mean(), f1_cv_score.std()))\n",
        "print(f\"max: {f1_cv_score.max()}, min: {f1_cv_score.min()}.\\n\")"
      ],
      "metadata": {
        "id": "EYDPkVWOWQV1"
      },
      "execution_count": null,
      "outputs": []
    },
    {
      "cell_type": "code",
      "execution_count": null,
      "metadata": {
        "id": "TCx_pM-IpeMU"
      },
      "outputs": [],
      "source": [
        "#Evaluate this classifier\n",
        "accuracy = accuracy_score(y_test, y_pred)\n",
        "report = classification_report(y_test, y_pred)\n",
        "conf_matrix = confusion_matrix(y_test, y_pred)\n",
        "\n",
        "print(f'Accuracy: {accuracy}')\n",
        "print(f'Classification Report:\\n{report}')\n",
        "\n",
        "# Plot fancy confusion matrix :D\n",
        "plt.figure(figsize=(8, 6))\n",
        "sns.heatmap(conf_matrix, annot=True, fmt='d', cmap='Blues', xticklabels=['Non-PII', 'PII'], yticklabels=['Non-PII', 'PII'])\n",
        "plt.title('Confusion Matrix for a Support Vector Classifier')\n",
        "plt.xlabel('Predicted Labels')\n",
        "plt.ylabel('True Labels')\n",
        "plt.show()\n",
        "\n",
        "# Compute precision and recall for plotting\n",
        "precision_test, recall_test, thresholds = precision_recall_curve(y_test, y_pred)\n",
        "\n",
        "# Plot the precision-recall curve for the test set\n",
        "plt.plot(recall_test, precision_test, label=\"Test Metrics\")\n",
        "plt.xlabel(\"Recall\")\n",
        "plt.ylabel(\"Precision\")\n",
        "plt.title(\"Precision-Recall Curve Test for Support Vector Classifier\")\n",
        "plt.legend()\n",
        "plt.show()"
      ]
    },
    {
      "cell_type": "markdown",
      "metadata": {
        "id": "ky5MxXaOqS6l"
      },
      "source": [
        "# They're are about as good as Random Forest Classifier"
      ]
    },
    {
      "cell_type": "code",
      "source": [],
      "metadata": {
        "id": "UxObytEOfCJi"
      },
      "execution_count": null,
      "outputs": []
    }
  ],
  "metadata": {
    "colab": {
      "collapsed_sections": [
        "gpJHOgiuloRF",
        "P6JAjxLEFkTE"
      ],
      "provenance": []
    },
    "kernelspec": {
      "display_name": "Python 3",
      "name": "python3"
    },
    "language_info": {
      "name": "python"
    }
  },
  "nbformat": 4,
  "nbformat_minor": 0
}